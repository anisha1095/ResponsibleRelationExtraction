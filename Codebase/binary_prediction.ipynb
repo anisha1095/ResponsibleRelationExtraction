{
 "cells": [
  {
   "cell_type": "code",
   "execution_count": 2,
   "id": "aee7ce5b",
   "metadata": {},
   "outputs": [],
   "source": [
    "import pandas as pd\n",
    "import pickle\n",
    "import warnings\n",
    "\n",
    "%run models.ipynb\n",
    "pd.set_option('display.max_rows', 10)\n",
    "pd.set_option('display.max_columns', None)\n",
    "pd.set_option('display.width', None)\n",
    "pd.set_option('display.max_colwidth', -1)\n",
    "\n",
    "warnings.filterwarnings(\"ignore\")"
   ]
  },
  {
   "cell_type": "code",
   "execution_count": 16,
   "id": "5ed1519f",
   "metadata": {},
   "outputs": [
    {
     "data": {
      "text/plain": [
       "label\n",
       "0    107134\n",
       "1    9186  \n",
       "Name: sent_index, dtype: int64"
      ]
     },
     "metadata": {},
     "output_type": "display_data"
    },
    {
     "data": {
      "text/plain": [
       "10468"
      ]
     },
     "metadata": {},
     "output_type": "display_data"
    },
    {
     "data": {
      "text/plain": [
       "1164"
      ]
     },
     "metadata": {},
     "output_type": "display_data"
    }
   ],
   "source": [
    "dataset = \"ace2005\"\n",
    "\n",
    "features_with_labels = pd.read_csv(f\"/Users/anishajauhari/Desktop/Sem 4/Independent Study /ResponsibleRelationExtraction/Features/features_{dataset}-binary.csv\",\n",
    "                                   index_col=0)\n",
    "\n",
    "# features_with_labels[\"label\"] = features_with_labels.apply(lambda x : 1 if x[\"rel type\"] == \"no_relation\" else x[\"label\"], axis = 1)\n",
    "## Sampling 20% of data\n",
    "# features_with_labels_sampled = features_with_labels.sample(frac=0.2, random_state=100)\n",
    "#, 'entity_tag_1', 'entity_tag_2'\n",
    "columns = ['sent_index', 'sentence_length', 'root_word', 'root_index',\n",
    "       'entity_1_index', 'entity_2_index', 'entity_distance',\n",
    "       'no_words_before_entity_1', 'no_words_after_entity_2',\n",
    "       'entity_1_root_distance', 'entity_2_root_distance', 'entity 1 name',\n",
    "       'entity 2 name', 'entity_type_1', 'entity_type_2', 'entity_pos_1',\n",
    "       'entity_pos_2', 'entity_dep_1', 'entity_dep_2', 'shortest_distance', 'label']\n",
    "features_with_labels = features_with_labels[columns]\n",
    "display(features_with_labels.groupby(by=[\"label\"]).count()[\"sent_index\"])\n",
    "\n",
    "## Sampling \n",
    "features_with_labels = features_with_labels.sample(frac = 0.1, random_state=101)\n",
    "# features_with_labels = features_with_labels.sample(frac = 0.3,  \n",
    "                                                   # weights = features_with_labels.groupby('label')['label'].transform('count'))\n",
    "\n",
    "X = features_with_labels.iloc[:,:-1]\n",
    "y =  features_with_labels.iloc[:,-1]\n",
    "error_rows = X[X.isna().any(axis=1)]\n",
    "X = X.fillna(\"\")\n",
    "\n",
    "x_train_original, x_test_original, y_train, y_test = train_test_split(X, y, test_size=0.1, stratify=y)\n",
    "\n",
    "onehot_encoder = OneHotEncoder(sparse=False, handle_unknown='ignore')\n",
    "x_train = onehot_encoder.fit_transform(x_train_original)\n",
    "x_test = onehot_encoder.transform(x_test_original)\n",
    "display(len(x_train), len(x_test))\n"
   ]
  },
  {
   "cell_type": "code",
   "execution_count": 17,
   "id": "51baa808-125f-4ebb-a2b9-4b8369152202",
   "metadata": {},
   "outputs": [
    {
     "data": {
      "text/plain": [
       "7855"
      ]
     },
     "execution_count": 17,
     "metadata": {},
     "output_type": "execute_result"
    }
   ],
   "source": [
    "features = list(onehot_encoder.get_feature_names())\n",
    "len(features)\n",
    "# with open(\"/Users/anishajauhari/Desktop/Sem 4/Independent Study /ResponsibleRelationExtraction/binary_features.txt\", 'w') as fp:\n",
    "#     for item in features:\n",
    "#         # write each item on a new line\n",
    "#         fp.write(\"%s\\n\" % item)\n",
    "#     print('Done')\n",
    "    "
   ]
  },
  {
   "cell_type": "code",
   "execution_count": 15,
   "id": "fe07b113",
   "metadata": {},
   "outputs": [
    {
     "name": "stdout",
     "output_type": "stream",
     "text": [
      "--------Logistic Regression-----------\n"
     ]
    },
    {
     "name": "stderr",
     "output_type": "stream",
     "text": [
      "\n",
      "KeyboardInterrupt\n",
      "\n"
     ]
    }
   ],
   "source": [
    "pred = logistic_regression(x_train, x_test, y_train, y_test, \"binary\")\n",
    "x_test_log_pred = x_test_original\n",
    "x_test_log_pred[\"label\"] = y_test\n",
    "x_test_log_pred[\"prediction\"] = pred\n",
    "x_test_log_pred.to_csv(\"/Users/anishajauhari/Desktop/Sem 4/Independent Study /ResponsibleRelationExtraction/Predictions/binary_logisitic_regression_prediction.csv\")\n"
   ]
  },
  {
   "cell_type": "code",
   "execution_count": 24,
   "id": "e72d9df5",
   "metadata": {},
   "outputs": [
    {
     "name": "stdout",
     "output_type": "stream",
     "text": [
      "--------Random Forest-----------\n"
     ]
    }
   ],
   "source": [
    "pred = random_forest(x_train, x_test, y_train, y_test,\"binary\")\n",
    "x_test_rf_pred = x_test_original\n",
    "x_test_rf_pred[\"label\"] = y_test\n",
    "x_test_rf_pred[\"prediction\"] = pred\n",
    "x_test_rf_pred.to_csv(\"/Users/anishajauhari/Desktop/Sem 4/Independent Study /ResponsibleRelationExtraction/Predictions/binary_random_forest_prediction.csv\")\n"
   ]
  },
  {
   "cell_type": "code",
   "execution_count": 25,
   "id": "5c617697",
   "metadata": {},
   "outputs": [],
   "source": [
    "pred = xgboost(x_train, x_test, y_train, y_test, \"binary\")\n",
    "x_test_xg_pred = x_test_original\n",
    "x_test_xg_pred[\"label\"] = y_test\n",
    "x_test_xg_pred[\"prediction\"] = pred\n",
    "x_test_xg_pred.to_csv(\"/Users/anishajauhari/Desktop/Sem 4/Independent Study /ResponsibleRelationExtraction/Predictions/binary_xgboost_prediction.csv\")\n"
   ]
  },
  {
   "cell_type": "code",
   "execution_count": 26,
   "id": "d6ea5357",
   "metadata": {},
   "outputs": [],
   "source": [
    "pred = adaboost(x_train, x_test, y_train, y_test, \"binary\")\n",
    "x_test_ada_pred = x_test_original\n",
    "x_test_ada_pred[\"label\"] = y_test\n",
    "x_test_ada_pred[\"prediction\"] = pred\n",
    "x_test_ada_pred.to_csv(\"/Users/anishajauhari/Desktop/Sem 4/Independent Study /ResponsibleRelationExtraction/Predictions/binary_adaboost_prediction.csv\")\n"
   ]
  },
  {
   "cell_type": "code",
   "execution_count": 27,
   "id": "582bd11c",
   "metadata": {},
   "outputs": [
    {
     "name": "stdout",
     "output_type": "stream",
     "text": [
      "--------Support Vector Classifier linear-----------\n"
     ]
    },
    {
     "name": "stderr",
     "output_type": "stream",
     "text": [
      "/usr/local/anaconda3/lib/python3.7/site-packages/sklearn/linear_model/_logistic.py:818: ConvergenceWarning: lbfgs failed to converge (status=1):\n",
      "STOP: TOTAL NO. of ITERATIONS REACHED LIMIT.\n",
      "\n",
      "Increase the number of iterations (max_iter) or scale the data as shown in:\n",
      "    https://scikit-learn.org/stable/modules/preprocessing.html\n",
      "Please also refer to the documentation for alternative solver options:\n",
      "    https://scikit-learn.org/stable/modules/linear_model.html#logistic-regression\n",
      "  extra_warning_msg=_LOGISTIC_SOLVER_CONVERGENCE_MSG,\n"
     ]
    }
   ],
   "source": [
    "pred = svm(\"linear\", x_train, x_test, y_train, y_test, \"binary\")\n",
    "x_test_svm_pred = x_test_original\n",
    "x_test_svm_pred[\"label\"] = y_test\n",
    "x_test_svm_pred[\"prediction\"] = pred\n",
    "x_test_svm_pred.to_csv(\"/Users/anishajauhari/Desktop/Sem 4/Independent Study /ResponsibleRelationExtraction/Predictions/binary_svm_prediction.csv\")"
   ]
  },
  {
   "cell_type": "code",
   "execution_count": 28,
   "id": "3b2e25d0",
   "metadata": {},
   "outputs": [
    {
     "name": "stdout",
     "output_type": "stream",
     "text": [
      "--------Support Vector Classifier rbf-----------\n"
     ]
    }
   ],
   "source": [
    "pred = svm(\"rbf\", x_train, x_test, y_train, y_test, \"binary\")\n",
    "x_test_svmrbf_pred = x_test_original\n",
    "x_test_svmrbf_pred[\"label\"] = y_test\n",
    "x_test_svmrbf_pred[\"prediction\"] = pred\n",
    "x_test_svmrbf_pred.to_csv(\"/Users/anishajauhari/Desktop/Sem 4/Independent Study /ResponsibleRelationExtraction/Predictions/binary_svm_rbf_prediction.csv\")"
   ]
  },
  {
   "cell_type": "code",
   "execution_count": 29,
   "id": "fcc31a47",
   "metadata": {},
   "outputs": [
    {
     "name": "stdout",
     "output_type": "stream",
     "text": [
      "--------Support Vector Classifier poly-----------\n"
     ]
    }
   ],
   "source": [
    "pred = svm(\"poly\", x_train, x_test, y_train, y_test, \"binary\")\n",
    "x_test_svmpoly_pred = x_test_original\n",
    "x_test_svmpoly_pred[\"label\"] = y_test\n",
    "x_test_svmpoly_pred[\"prediction\"] = pred\n",
    "x_test_svmpoly_pred.to_csv(\"/Users/anishajauhari/Desktop/Sem 4/Independent Study /ResponsibleRelationExtraction/Predictions/binary_svm_poly_prediction.csv\")\n"
   ]
  },
  {
   "cell_type": "code",
   "execution_count": null,
   "id": "31312e65",
   "metadata": {},
   "outputs": [],
   "source": []
  }
 ],
 "metadata": {
  "kernelspec": {
   "display_name": "Python 3 (ipykernel)",
   "language": "python",
   "name": "python3"
  },
  "language_info": {
   "codemirror_mode": {
    "name": "ipython",
    "version": 3
   },
   "file_extension": ".py",
   "mimetype": "text/x-python",
   "name": "python",
   "nbconvert_exporter": "python",
   "pygments_lexer": "ipython3",
   "version": "3.7.13"
  }
 },
 "nbformat": 4,
 "nbformat_minor": 5
}
