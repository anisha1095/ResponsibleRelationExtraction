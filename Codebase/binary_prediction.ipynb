{
 "cells": [
  {
   "cell_type": "code",
   "execution_count": 2,
   "id": "aee7ce5b",
   "metadata": {},
   "outputs": [],
   "source": [
    "import pandas as pd\n",
    "import pickle\n",
    "import warnings\n",
    "\n",
    "%run models.ipynb\n",
    "pd.set_option('display.max_rows', 10)\n",
    "pd.set_option('display.max_columns', None)\n",
    "pd.set_option('display.width', None)\n",
    "pd.set_option('display.max_colwidth', -1)\n",
    "\n",
    "warnings.filterwarnings(\"ignore\")"
   ]
  },
  {
   "cell_type": "code",
   "execution_count": 22,
   "id": "5ed1519f",
   "metadata": {},
   "outputs": [
    {
     "data": {
      "text/plain": [
       "label\n",
       "1    16337\n",
       "Name: sent_index, dtype: int64"
      ]
     },
     "metadata": {},
     "output_type": "display_data"
    },
    {
     "data": {
      "text/html": [
       "<div>\n",
       "<style scoped>\n",
       "    .dataframe tbody tr th:only-of-type {\n",
       "        vertical-align: middle;\n",
       "    }\n",
       "\n",
       "    .dataframe tbody tr th {\n",
       "        vertical-align: top;\n",
       "    }\n",
       "\n",
       "    .dataframe thead th {\n",
       "        text-align: right;\n",
       "    }\n",
       "</style>\n",
       "<table border=\"1\" class=\"dataframe\">\n",
       "  <thead>\n",
       "    <tr style=\"text-align: right;\">\n",
       "      <th></th>\n",
       "      <th>sent_index</th>\n",
       "      <th>sentence_length</th>\n",
       "      <th>root_word</th>\n",
       "      <th>root_index</th>\n",
       "      <th>entity_1_index</th>\n",
       "      <th>entity_2_index</th>\n",
       "      <th>entity_distance</th>\n",
       "      <th>no_words_before_entity_1</th>\n",
       "      <th>no_words_after_entity_2</th>\n",
       "      <th>entity_1_root_distance</th>\n",
       "      <th>entity_2_root_distance</th>\n",
       "      <th>entity 1 name</th>\n",
       "      <th>entity 2 name</th>\n",
       "      <th>entity_type_1</th>\n",
       "      <th>entity_type_2</th>\n",
       "      <th>entity_pos_1</th>\n",
       "      <th>entity_pos_2</th>\n",
       "      <th>entity_dep_1</th>\n",
       "      <th>entity_dep_2</th>\n",
       "      <th>entity_tag_1</th>\n",
       "      <th>entity_tag_2</th>\n",
       "      <th>shortest_distance</th>\n",
       "    </tr>\n",
       "  </thead>\n",
       "  <tbody>\n",
       "  </tbody>\n",
       "</table>\n",
       "</div>"
      ],
      "text/plain": [
       "Empty DataFrame\n",
       "Columns: [sent_index, sentence_length, root_word, root_index, entity_1_index, entity_2_index, entity_distance, no_words_before_entity_1, no_words_after_entity_2, entity_1_root_distance, entity_2_root_distance, entity 1 name, entity 2 name, entity_type_1, entity_type_2, entity_pos_1, entity_pos_2, entity_dep_1, entity_dep_2, entity_tag_1, entity_tag_2, shortest_distance]\n",
       "Index: []"
      ]
     },
     "metadata": {},
     "output_type": "display_data"
    }
   ],
   "source": [
    "dataset = \"tacred\"\n",
    "\n",
    "features_with_labels = pd.read_csv(f\"/Users/anishajauhari/Desktop/Sem 4/Independent Study /ResponsibleRelationExtraction/Features/features_{dataset}.csv\",\n",
    "                                   index_col=0)\n",
    "## Sampling 20% of data\n",
    "features_with_labels_sampled = features_with_labels.sample(frac=0.2, random_state=100)\n",
    "columns = ['sent_index', 'sentence_length', 'root_word', 'root_index',\n",
    "       'entity_1_index', 'entity_2_index', 'entity_distance',\n",
    "       'no_words_before_entity_1', 'no_words_after_entity_2',\n",
    "       'entity_1_root_distance', 'entity_2_root_distance', 'entity 1 name',\n",
    "       'entity 2 name', 'entity_type_1', 'entity_type_2', 'entity_pos_1',\n",
    "       'entity_pos_2', 'entity_dep_1', 'entity_dep_2', 'entity_tag_1',\n",
    "       'entity_tag_2', 'shortest_distance', 'label']\n",
    "features_with_labels = features_with_labels[columns]\n",
    "display(features_with_labels.groupby(by=[\"label\"]).count()[\"sent_index\"])\n",
    "\n",
    "## Sampling \n",
    "# features_with_labels = features_with_labels.sample(frac = 0.3, weights = \"label\", random_state=101)\n",
    "# features_with_labels = features_with_labels.sample(frac = 0.3,  \n",
    "                                                   # weights = features_with_labels.groupby('label')['label'].transform('count'))\n",
    "\n",
    "X = features_with_labels.iloc[:,:-1]\n",
    "y =  features_with_labels.iloc[:,-1]\n",
    "\n",
    "error_rows = X[X.isna().any(axis=1)]\n",
    "display(error_rows)\n",
    "X = X.fillna(\"\")\n",
    "\n",
    "x_train_original, x_test_original, y_train, y_test = train_test_split(X,y, test_size=0.2, stratify=y)\n",
    "\n",
    "onehot_encoder = OneHotEncoder(sparse=False, handle_unknown='ignore')\n",
    "x_train = onehot_encoder.fit_transform(x_train_original)\n",
    "x_test = onehot_encoder.transform(x_test_original)\n"
   ]
  },
  {
   "cell_type": "code",
   "execution_count": 20,
   "id": "fe07b113",
   "metadata": {},
   "outputs": [
    {
     "name": "stdout",
     "output_type": "stream",
     "text": [
      "--------Logistic Regression-----------\n"
     ]
    },
    {
     "ename": "ValueError",
     "evalue": "This solver needs samples of at least 2 classes in the data, but the data contains only one class: 1",
     "output_type": "error",
     "traceback": [
      "\u001b[0;31m---------------------------------------------------------------------------\u001b[0m",
      "\u001b[0;31mValueError\u001b[0m                                Traceback (most recent call last)",
      "\u001b[0;32m/var/folders/31/6ggvb33125xfgc3tmb1sf0l40000gn/T/ipykernel_13190/2601421237.py\u001b[0m in \u001b[0;36m<module>\u001b[0;34m\u001b[0m\n\u001b[0;32m----> 1\u001b[0;31m \u001b[0mpred\u001b[0m \u001b[0;34m=\u001b[0m \u001b[0mlogistic_regression\u001b[0m\u001b[0;34m(\u001b[0m\u001b[0mx_train\u001b[0m\u001b[0;34m,\u001b[0m \u001b[0mx_test\u001b[0m\u001b[0;34m,\u001b[0m \u001b[0my_train\u001b[0m\u001b[0;34m,\u001b[0m \u001b[0my_test\u001b[0m\u001b[0;34m,\u001b[0m \u001b[0;34m\"binary\"\u001b[0m\u001b[0;34m)\u001b[0m\u001b[0;34m\u001b[0m\u001b[0;34m\u001b[0m\u001b[0m\n\u001b[0m\u001b[1;32m      2\u001b[0m \u001b[0mx_test_log_pred\u001b[0m \u001b[0;34m=\u001b[0m \u001b[0mx_test_original\u001b[0m\u001b[0;34m\u001b[0m\u001b[0;34m\u001b[0m\u001b[0m\n\u001b[1;32m      3\u001b[0m \u001b[0mx_test_log_pred\u001b[0m\u001b[0;34m[\u001b[0m\u001b[0;34m\"label\"\u001b[0m\u001b[0;34m]\u001b[0m \u001b[0;34m=\u001b[0m \u001b[0my_test\u001b[0m\u001b[0;34m\u001b[0m\u001b[0;34m\u001b[0m\u001b[0m\n\u001b[1;32m      4\u001b[0m \u001b[0mx_test_log_pred\u001b[0m\u001b[0;34m[\u001b[0m\u001b[0;34m\"prediction\"\u001b[0m\u001b[0;34m]\u001b[0m \u001b[0;34m=\u001b[0m \u001b[0mpred\u001b[0m\u001b[0;34m\u001b[0m\u001b[0;34m\u001b[0m\u001b[0m\n\u001b[1;32m      5\u001b[0m \u001b[0mx_test_log_pred\u001b[0m\u001b[0;34m.\u001b[0m\u001b[0mto_csv\u001b[0m\u001b[0;34m(\u001b[0m\u001b[0;34m\"/Users/anishajauhari/Desktop/Sem 4/Independent Study /ResponsibleRelationExtraction/Predictions/binary_logisitic_regression_prediction.csv\"\u001b[0m\u001b[0;34m)\u001b[0m\u001b[0;34m\u001b[0m\u001b[0;34m\u001b[0m\u001b[0m\n",
      "\u001b[0;32m/var/folders/31/6ggvb33125xfgc3tmb1sf0l40000gn/T/ipykernel_13190/3266614059.py\u001b[0m in \u001b[0;36mlogistic_regression\u001b[0;34m(x_train, x_test, y_train, y_test, mod_type)\u001b[0m\n\u001b[1;32m      2\u001b[0m     \u001b[0mprint\u001b[0m\u001b[0;34m(\u001b[0m\u001b[0;34m\"--------Logistic Regression-----------\"\u001b[0m\u001b[0;34m)\u001b[0m\u001b[0;34m\u001b[0m\u001b[0;34m\u001b[0m\u001b[0m\n\u001b[1;32m      3\u001b[0m     \u001b[0mlr\u001b[0m \u001b[0;34m=\u001b[0m  \u001b[0mLogisticRegression\u001b[0m\u001b[0;34m(\u001b[0m\u001b[0mn_jobs\u001b[0m\u001b[0;34m=\u001b[0m\u001b[0;36m10\u001b[0m\u001b[0;34m)\u001b[0m\u001b[0;34m\u001b[0m\u001b[0;34m\u001b[0m\u001b[0m\n\u001b[0;32m----> 4\u001b[0;31m     \u001b[0mlr\u001b[0m\u001b[0;34m.\u001b[0m\u001b[0mfit\u001b[0m\u001b[0;34m(\u001b[0m\u001b[0mx_train\u001b[0m\u001b[0;34m,\u001b[0m \u001b[0my_train\u001b[0m\u001b[0;34m)\u001b[0m\u001b[0;34m\u001b[0m\u001b[0;34m\u001b[0m\u001b[0m\n\u001b[0m\u001b[1;32m      5\u001b[0m     \u001b[0my_pred\u001b[0m\u001b[0;34m=\u001b[0m\u001b[0mlr\u001b[0m\u001b[0;34m.\u001b[0m\u001b[0mpredict\u001b[0m\u001b[0;34m(\u001b[0m\u001b[0mx_test\u001b[0m\u001b[0;34m)\u001b[0m\u001b[0;34m\u001b[0m\u001b[0;34m\u001b[0m\u001b[0m\n\u001b[1;32m      6\u001b[0m     \u001b[0mpickle\u001b[0m\u001b[0;34m.\u001b[0m\u001b[0mdump\u001b[0m\u001b[0;34m(\u001b[0m\u001b[0mlr\u001b[0m\u001b[0;34m,\u001b[0m \u001b[0mopen\u001b[0m\u001b[0;34m(\u001b[0m\u001b[0;34m\"/Users/anishajauhari/Desktop/Sem 4/Independent Study /ResponsibleRelationExtraction/Models/\"\u001b[0m\u001b[0;34m+\u001b[0m\u001b[0mmod_type\u001b[0m\u001b[0;34m+\u001b[0m\u001b[0;34m\"_lr_model_\"\u001b[0m\u001b[0;34m+\u001b[0m\u001b[0mdataset\u001b[0m\u001b[0;34m+\u001b[0m\u001b[0;34m\".sav\"\u001b[0m\u001b[0;34m,\u001b[0m \u001b[0;34m\"wb\"\u001b[0m\u001b[0;34m)\u001b[0m\u001b[0;34m)\u001b[0m\u001b[0;34m\u001b[0m\u001b[0;34m\u001b[0m\u001b[0m\n",
      "\u001b[0;32m/usr/local/anaconda3/lib/python3.7/site-packages/sklearn/linear_model/_logistic.py\u001b[0m in \u001b[0;36mfit\u001b[0;34m(self, X, y, sample_weight)\u001b[0m\n\u001b[1;32m   1556\u001b[0m                 \u001b[0;34m\" in the data, but the data contains only one\"\u001b[0m\u001b[0;34m\u001b[0m\u001b[0;34m\u001b[0m\u001b[0m\n\u001b[1;32m   1557\u001b[0m                 \u001b[0;34m\" class: %r\"\u001b[0m\u001b[0;34m\u001b[0m\u001b[0;34m\u001b[0m\u001b[0m\n\u001b[0;32m-> 1558\u001b[0;31m                 \u001b[0;34m%\u001b[0m \u001b[0mclasses_\u001b[0m\u001b[0;34m[\u001b[0m\u001b[0;36m0\u001b[0m\u001b[0;34m]\u001b[0m\u001b[0;34m\u001b[0m\u001b[0;34m\u001b[0m\u001b[0m\n\u001b[0m\u001b[1;32m   1559\u001b[0m             )\n\u001b[1;32m   1560\u001b[0m \u001b[0;34m\u001b[0m\u001b[0m\n",
      "\u001b[0;31mValueError\u001b[0m: This solver needs samples of at least 2 classes in the data, but the data contains only one class: 1"
     ]
    }
   ],
   "source": [
    "pred = logistic_regression(x_train, x_test, y_train, y_test, \"binary\")\n",
    "x_test_log_pred = x_test_original\n",
    "x_test_log_pred[\"label\"] = y_test\n",
    "x_test_log_pred[\"prediction\"] = pred\n",
    "x_test_log_pred.to_csv(\"/Users/anishajauhari/Desktop/Sem 4/Independent Study /ResponsibleRelationExtraction/Predictions/binary_logisitic_regression_prediction.csv\")\n"
   ]
  },
  {
   "cell_type": "code",
   "execution_count": 13,
   "id": "e72d9df5",
   "metadata": {},
   "outputs": [
    {
     "name": "stdout",
     "output_type": "stream",
     "text": [
      "--------Random Forest-----------\n"
     ]
    }
   ],
   "source": [
    "pred = random_forest(x_train, x_test, y_train, y_test,\"binary\")\n",
    "x_test_rf_pred = x_test_original\n",
    "x_test_rf_pred[\"label\"] = y_test\n",
    "x_test_rf_pred[\"prediction\"] = pred\n",
    "x_test_rf_pred.to_csv(\"/Users/anishajauhari/Desktop/Sem 4/Independent Study /ResponsibleRelationExtraction/Predictions/binary_random_forest_prediction.csv\")\n"
   ]
  },
  {
   "cell_type": "code",
   "execution_count": 14,
   "id": "582bd11c",
   "metadata": {},
   "outputs": [
    {
     "name": "stdout",
     "output_type": "stream",
     "text": [
      "--------Support Vector Classifier linear-----------\n"
     ]
    }
   ],
   "source": [
    "pred = svm(\"linear\", x_train, x_test, y_train, y_test, \"binary\")\n",
    "x_test_svm_pred = x_test_original\n",
    "x_test_svm_pred[\"label\"] = y_test\n",
    "x_test_svm_pred[\"prediction\"] = pred\n",
    "x_test_svm_pred.to_csv(\"/Users/anishajauhari/Desktop/Sem 4/Independent Study /ResponsibleRelationExtraction/Predictions/binary_svm_prediction.csv\")"
   ]
  },
  {
   "cell_type": "code",
   "execution_count": 15,
   "id": "3b2e25d0",
   "metadata": {},
   "outputs": [
    {
     "name": "stdout",
     "output_type": "stream",
     "text": [
      "--------Support Vector Classifier rbf-----------\n"
     ]
    }
   ],
   "source": [
    "pred = svm(\"rbf\", x_train, x_test, y_train, y_test, \"binary\")\n",
    "x_test_svmrbf_pred = x_test_original\n",
    "x_test_svmrbf_pred[\"label\"] = y_test\n",
    "x_test_svmrbf_pred[\"prediction\"] = pred\n",
    "x_test_svmrbf_pred.to_csv(\"/Users/anishajauhari/Desktop/Sem 4/Independent Study /ResponsibleRelationExtraction/Predictions/binary_svm_rbf_prediction.csv\")"
   ]
  },
  {
   "cell_type": "code",
   "execution_count": 16,
   "id": "fcc31a47",
   "metadata": {},
   "outputs": [
    {
     "name": "stdout",
     "output_type": "stream",
     "text": [
      "--------Support Vector Classifier poly-----------\n"
     ]
    }
   ],
   "source": [
    "pred = svm(\"poly\", x_train, x_test, y_train, y_test, \"binary\")\n",
    "x_test_svmpoly_pred = x_test_original\n",
    "x_test_svmpoly_pred[\"label\"] = y_test\n",
    "x_test_svmpoly_pred[\"prediction\"] = pred\n",
    "x_test_svmpoly_pred.to_csv(\"/Users/anishajauhari/Desktop/Sem 4/Independent Study /ResponsibleRelationExtraction/Predictions/binary_svm_poly_prediction.csv\")\n"
   ]
  },
  {
   "cell_type": "code",
   "execution_count": 17,
   "id": "5c617697",
   "metadata": {},
   "outputs": [],
   "source": [
    "pred = xgboost(x_train, x_test, y_train, y_test, \"binary\")\n",
    "x_test_xg_pred = x_test_original\n",
    "x_test_xg_pred[\"label\"] = y_test\n",
    "x_test_xg_pred[\"prediction\"] = pred\n",
    "x_test_xg_pred.to_csv(\"/Users/anishajauhari/Desktop/Sem 4/Independent Study /ResponsibleRelationExtraction/Predictions/binary_xgboost_prediction.csv\")\n"
   ]
  },
  {
   "cell_type": "code",
   "execution_count": 18,
   "id": "d6ea5357",
   "metadata": {},
   "outputs": [],
   "source": [
    "pred = adaboost(x_train, x_test, y_train, y_test, \"binary\")\n",
    "x_test_ada_pred = x_test_original\n",
    "x_test_ada_pred[\"label\"] = y_test\n",
    "x_test_ada_pred[\"prediction\"] = pred\n",
    "x_test_ada_pred.to_csv(\"/Users/anishajauhari/Desktop/Sem 4/Independent Study /ResponsibleRelationExtraction/Predictions/binary_adaboost_prediction.csv\")\n"
   ]
  },
  {
   "cell_type": "code",
   "execution_count": null,
   "id": "31312e65",
   "metadata": {},
   "outputs": [],
   "source": []
  }
 ],
 "metadata": {
  "kernelspec": {
   "display_name": "Python 3 (ipykernel)",
   "language": "python",
   "name": "python3"
  },
  "language_info": {
   "codemirror_mode": {
    "name": "ipython",
    "version": 3
   },
   "file_extension": ".py",
   "mimetype": "text/x-python",
   "name": "python",
   "nbconvert_exporter": "python",
   "pygments_lexer": "ipython3",
   "version": "3.7.13"
  }
 },
 "nbformat": 4,
 "nbformat_minor": 5
}
