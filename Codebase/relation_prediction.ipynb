{
 "cells": [
  {
   "cell_type": "code",
   "execution_count": 1,
   "id": "a3d977be",
   "metadata": {},
   "outputs": [],
   "source": [
    "import warnings\n",
    "import pandas as pd\n",
    "import numpy as np\n",
    "import random\n",
    "from sklearn.preprocessing import LabelEncoder\n",
    "%run models.ipynb\n",
    "\n",
    "warnings.filterwarnings('ignore')\n",
    "random.seed(100)\n",
    "\n",
    "pd.set_option('display.max_rows', 10)\n",
    "pd.set_option('display.max_columns', None)\n",
    "pd.set_option('display.width', None)\n",
    "pd.set_option('display.max_colwidth', -1)"
   ]
  },
  {
   "cell_type": "code",
   "execution_count": 52,
   "id": "c0d9d7f1",
   "metadata": {},
   "outputs": [],
   "source": [
    "dataset = \"docred\""
   ]
  },
  {
   "cell_type": "code",
   "execution_count": 53,
   "id": "d4539e68",
   "metadata": {},
   "outputs": [],
   "source": [
    "features = pd.read_csv(\"/Users/anishajauhari/Desktop/Sem 4/Independent Study /ResponsibleRelationExtraction/Features/features_\"+dataset+\".csv\", index_col=0)\n",
    "# features.head(1)"
   ]
  },
  {
   "cell_type": "code",
   "execution_count": 54,
   "id": "16b28382",
   "metadata": {},
   "outputs": [
    {
     "data": {
      "text/plain": [
       "array(['performer', 'member of', 'child', 'inception', 'record label',\n",
       "       'has part', 'date of birth',\n",
       "       'located in the administrative territorial entity',\n",
       "       'date of death', 'place of birth', 'country', 'award received',\n",
       "       'sibling', 'country of citizenship',\n",
       "       'contains administrative territorial entity', 'league',\n",
       "       'publication date', 'capital', 'location', 'employer',\n",
       "       'headquarters location', 'parent taxon', 'educated at',\n",
       "       'work location', 'creator', 'start time', 'place of death',\n",
       "       'cast member', 'head of government', 'chairperson',\n",
       "       'mouth of the watercourse', 'head of state',\n",
       "       'member of sports team', 'part of', 'spouse', 'point in time',\n",
       "       'followed by', 'characters', 'present in work', 'father', 'mother',\n",
       "       'director', 'manufacturer', 'subsidiary', 'owned by',\n",
       "       'parent organization', 'member of political party', 'subclass of',\n",
       "       'conflict', 'notable work', 'genre', 'screenwriter', 'continent',\n",
       "       'located in or next to body of water', 'narrative location',\n",
       "       'original network', 'end time', 'producer', 'author',\n",
       "       'country of origin', 'military branch', 'follows', 'founded by',\n",
       "       'languages spoken, written or signed', 'production company',\n",
       "       'series', 'religion', 'developer', 'operator',\n",
       "       'applies to jurisdiction', 'participant',\n",
       "       'located on terrain feature', 'publisher', 'platform',\n",
       "       'territory claimed by', 'participant of', 'official language',\n",
       "       'capital of', 'location of formation', 'instance of',\n",
       "       'original language of work', 'replaced by', 'legislative body',\n",
       "       'dissolved, abolished or demolished',\n",
       "       'product or material produced', 'replaces', 'basin country',\n",
       "       'ethnic group', 'sister city', 'position held', 'lyrics by',\n",
       "       'composer', 'residence', 'influenced by', 'unemployment rate'],\n",
       "      dtype=object)"
      ]
     },
     "execution_count": 54,
     "metadata": {},
     "output_type": "execute_result"
    }
   ],
   "source": [
    "features[\"rel type\"].unique()"
   ]
  },
  {
   "cell_type": "code",
   "execution_count": 55,
   "id": "32e77dfd",
   "metadata": {},
   "outputs": [],
   "source": [
    "column_names = ['sent_index', 'sentence_length', 'root_word', 'root_index',\n",
    "       'entity_1_index', 'entity_2_index', 'entity_distance',\n",
    "       'no_words_before_entity_1', 'no_words_after_entity_2',\n",
    "       'entity_1_root_distance', 'entity_2_root_distance', 'entity 1 name',\n",
    "       'entity 2 name', 'entity_type_1', 'entity_type_2', 'entity_pos_1',\n",
    "       'entity_pos_2', 'entity_dep_1', 'entity_dep_2', 'entity_tag_1',\n",
    "       'entity_tag_2', 'shortest_distance', 'rel type']\n",
    "features = features[column_names]\n",
    "features.rename(columns={\"rel type\": \"label\"}, inplace=True)"
   ]
  },
  {
   "cell_type": "code",
   "execution_count": 56,
   "id": "06b7fbca",
   "metadata": {},
   "outputs": [
    {
     "data": {
      "text/plain": [
       "{'applies to jurisdiction': 0,\n",
       " 'author': 1,\n",
       " 'award received': 2,\n",
       " 'basin country': 3,\n",
       " 'capital': 4,\n",
       " 'capital of': 5,\n",
       " 'cast member': 6,\n",
       " 'chairperson': 7,\n",
       " 'characters': 8,\n",
       " 'child': 9,\n",
       " 'composer': 10,\n",
       " 'conflict': 11,\n",
       " 'contains administrative territorial entity': 12,\n",
       " 'continent': 13,\n",
       " 'country': 14,\n",
       " 'country of citizenship': 15,\n",
       " 'country of origin': 16,\n",
       " 'creator': 17,\n",
       " 'date of birth': 18,\n",
       " 'date of death': 19,\n",
       " 'developer': 20,\n",
       " 'director': 21,\n",
       " 'dissolved, abolished or demolished': 22,\n",
       " 'educated at': 23,\n",
       " 'employer': 24,\n",
       " 'end time': 25,\n",
       " 'ethnic group': 26,\n",
       " 'father': 27,\n",
       " 'followed by': 28,\n",
       " 'follows': 29,\n",
       " 'founded by': 30,\n",
       " 'genre': 31,\n",
       " 'has part': 32,\n",
       " 'head of government': 33,\n",
       " 'head of state': 34,\n",
       " 'headquarters location': 35,\n",
       " 'inception': 36,\n",
       " 'influenced by': 37,\n",
       " 'instance of': 38,\n",
       " 'languages spoken, written or signed': 39,\n",
       " 'league': 40,\n",
       " 'legislative body': 41,\n",
       " 'located in or next to body of water': 42,\n",
       " 'located in the administrative territorial entity': 43,\n",
       " 'located on terrain feature': 44,\n",
       " 'location': 45,\n",
       " 'location of formation': 46,\n",
       " 'lyrics by': 47,\n",
       " 'manufacturer': 48,\n",
       " 'member of': 49,\n",
       " 'member of political party': 50,\n",
       " 'member of sports team': 51,\n",
       " 'military branch': 52,\n",
       " 'mother': 53,\n",
       " 'mouth of the watercourse': 54,\n",
       " 'narrative location': 55,\n",
       " 'notable work': 56,\n",
       " 'official language': 57,\n",
       " 'operator': 58,\n",
       " 'original language of work': 59,\n",
       " 'original network': 60,\n",
       " 'owned by': 61,\n",
       " 'parent organization': 62,\n",
       " 'parent taxon': 63,\n",
       " 'part of': 64,\n",
       " 'participant': 65,\n",
       " 'participant of': 66,\n",
       " 'performer': 67,\n",
       " 'place of birth': 68,\n",
       " 'place of death': 69,\n",
       " 'platform': 70,\n",
       " 'point in time': 71,\n",
       " 'position held': 72,\n",
       " 'present in work': 73,\n",
       " 'producer': 74,\n",
       " 'product or material produced': 75,\n",
       " 'production company': 76,\n",
       " 'publication date': 77,\n",
       " 'publisher': 78,\n",
       " 'record label': 79,\n",
       " 'religion': 80,\n",
       " 'replaced by': 81,\n",
       " 'replaces': 82,\n",
       " 'residence': 83,\n",
       " 'screenwriter': 84,\n",
       " 'series': 85,\n",
       " 'sibling': 86,\n",
       " 'sister city': 87,\n",
       " 'spouse': 88,\n",
       " 'start time': 89,\n",
       " 'subclass of': 90,\n",
       " 'subsidiary': 91,\n",
       " 'territory claimed by': 92,\n",
       " 'unemployment rate': 93,\n",
       " 'work location': 94}"
      ]
     },
     "execution_count": 56,
     "metadata": {},
     "output_type": "execute_result"
    }
   ],
   "source": [
    "X = features.iloc[:,:-1]\n",
    "X = X.fillna(\"\")\n",
    "y_original =  features.iloc[:,-1]\n",
    "\n",
    "x_train_original, x_test_original, y_train_original, y_test_original = train_test_split(X, y_original, test_size=0.2)\n",
    "onehot_encoder = OneHotEncoder(sparse=False, handle_unknown=\"ignore\")\n",
    "x_train = onehot_encoder.fit_transform(x_train_original)\n",
    "x_test = onehot_encoder.transform(x_test_original)\n",
    "\n",
    "le = LabelEncoder()\n",
    "y_train = le.fit_transform(y_train_original)\n",
    "y_test = le.transform(y_test_original)\n",
    "le_name_mapping = dict(zip(le.classes_, le.transform(le.classes_)))\n",
    "le_name_mapping"
   ]
  },
  {
   "cell_type": "code",
   "execution_count": 36,
   "id": "e36b80aa",
   "metadata": {},
   "outputs": [],
   "source": [
    "# unique, count = np.unique(y_original, return_counts = True)\n",
    "# dict(zip(unique, count))"
   ]
  },
  {
   "cell_type": "code",
   "execution_count": 8,
   "id": "41a5a7aa",
   "metadata": {},
   "outputs": [
    {
     "name": "stdout",
     "output_type": "stream",
     "text": [
      "--------Logistic Regression-----------\n"
     ]
    },
    {
     "ename": "FileNotFoundError",
     "evalue": "[Errno 2] No such file or directory: '/Users/anishajauhari/Desktop/Sem 4/Independent Study /ResponsibleRelationExtraction/Models/et_lr_model_ACE2004.sav'",
     "output_type": "error",
     "traceback": [
      "\u001b[0;31m---------------------------------------------------------------------------\u001b[0m",
      "\u001b[0;31mFileNotFoundError\u001b[0m                         Traceback (most recent call last)",
      "\u001b[0;32m/var/folders/31/6ggvb33125xfgc3tmb1sf0l40000gn/T/ipykernel_12943/152594369.py\u001b[0m in \u001b[0;36m<module>\u001b[0;34m\u001b[0m\n\u001b[0;32m----> 1\u001b[0;31m \u001b[0mpred\u001b[0m \u001b[0;34m=\u001b[0m \u001b[0mlogistic_regression_multiple_classes\u001b[0m\u001b[0;34m(\u001b[0m\u001b[0mx_train\u001b[0m\u001b[0;34m,\u001b[0m \u001b[0mx_test\u001b[0m\u001b[0;34m,\u001b[0m \u001b[0my_train\u001b[0m\u001b[0;34m,\u001b[0m \u001b[0my_test\u001b[0m\u001b[0;34m,\u001b[0m \u001b[0;34m\"et\"\u001b[0m\u001b[0;34m)\u001b[0m\u001b[0;34m\u001b[0m\u001b[0;34m\u001b[0m\u001b[0m\n\u001b[0m\u001b[1;32m      2\u001b[0m \u001b[0mx_test_log_pred\u001b[0m \u001b[0;34m=\u001b[0m \u001b[0mx_test_original\u001b[0m\u001b[0;34m\u001b[0m\u001b[0;34m\u001b[0m\u001b[0m\n\u001b[1;32m      3\u001b[0m \u001b[0mx_test_log_pred\u001b[0m\u001b[0;34m[\u001b[0m\u001b[0;34m\"label\"\u001b[0m\u001b[0;34m]\u001b[0m \u001b[0;34m=\u001b[0m \u001b[0my_test\u001b[0m\u001b[0;34m\u001b[0m\u001b[0;34m\u001b[0m\u001b[0m\n\u001b[1;32m      4\u001b[0m \u001b[0mx_test_log_pred\u001b[0m\u001b[0;34m[\u001b[0m\u001b[0;34m\"prediction\"\u001b[0m\u001b[0;34m]\u001b[0m \u001b[0;34m=\u001b[0m \u001b[0mpred\u001b[0m\u001b[0;34m\u001b[0m\u001b[0;34m\u001b[0m\u001b[0m\n\u001b[1;32m      5\u001b[0m \u001b[0mx_test_log_pred\u001b[0m\u001b[0;34m.\u001b[0m\u001b[0mto_csv\u001b[0m\u001b[0;34m(\u001b[0m\u001b[0;34m\"/Users/anishajauhari/Desktop/Sem 4/Independent Study /ResponsibleRelationExtraction/Predictions/binary_logisitic_regression_prediction.csv\"\u001b[0m\u001b[0;34m)\u001b[0m\u001b[0;34m\u001b[0m\u001b[0;34m\u001b[0m\u001b[0m\n",
      "\u001b[0;32m/var/folders/31/6ggvb33125xfgc3tmb1sf0l40000gn/T/ipykernel_12943/1955711112.py\u001b[0m in \u001b[0;36mlogistic_regression_multiple_classes\u001b[0;34m(x_train, x_test, y_train, y_test, mod_type)\u001b[0m\n\u001b[1;32m      4\u001b[0m     \u001b[0mlr\u001b[0m\u001b[0;34m.\u001b[0m\u001b[0mfit\u001b[0m\u001b[0;34m(\u001b[0m\u001b[0mx_train\u001b[0m\u001b[0;34m,\u001b[0m \u001b[0my_train\u001b[0m\u001b[0;34m)\u001b[0m\u001b[0;34m\u001b[0m\u001b[0;34m\u001b[0m\u001b[0m\n\u001b[1;32m      5\u001b[0m     \u001b[0my_pred\u001b[0m\u001b[0;34m=\u001b[0m\u001b[0mlr\u001b[0m\u001b[0;34m.\u001b[0m\u001b[0mpredict\u001b[0m\u001b[0;34m(\u001b[0m\u001b[0mx_test\u001b[0m\u001b[0;34m)\u001b[0m\u001b[0;34m\u001b[0m\u001b[0;34m\u001b[0m\u001b[0m\n\u001b[0;32m----> 6\u001b[0;31m     \u001b[0mpickle\u001b[0m\u001b[0;34m.\u001b[0m\u001b[0mdump\u001b[0m\u001b[0;34m(\u001b[0m\u001b[0mlr\u001b[0m\u001b[0;34m,\u001b[0m \u001b[0mopen\u001b[0m\u001b[0;34m(\u001b[0m\u001b[0;34m\"/Users/anishajauhari/Desktop/Sem 4/Independent Study /ResponsibleRelationExtraction/Models/\"\u001b[0m\u001b[0;34m+\u001b[0m\u001b[0mmod_type\u001b[0m\u001b[0;34m+\u001b[0m\u001b[0;34m\"_lr_model_\"\u001b[0m\u001b[0;34m+\u001b[0m\u001b[0mdataset\u001b[0m\u001b[0;34m+\u001b[0m\u001b[0;34m\".sav\"\u001b[0m\u001b[0;34m,\u001b[0m \u001b[0;34m\"wb\"\u001b[0m\u001b[0;34m)\u001b[0m\u001b[0;34m)\u001b[0m\u001b[0;34m\u001b[0m\u001b[0;34m\u001b[0m\u001b[0m\n\u001b[0m\u001b[1;32m      7\u001b[0m \u001b[0;34m\u001b[0m\u001b[0m\n\u001b[1;32m      8\u001b[0m     \u001b[0;32mwith\u001b[0m \u001b[0mopen\u001b[0m\u001b[0;34m(\u001b[0m\u001b[0;34m\"/Users/anishajauhari/Desktop/Sem 4/Independent Study /ResponsibleRelationExtraction/Metrics/\"\u001b[0m\u001b[0;34m+\u001b[0m\u001b[0mmod_type\u001b[0m\u001b[0;34m+\u001b[0m\u001b[0;34m'_logistic_regression_metrics.txt'\u001b[0m\u001b[0;34m,\u001b[0m \u001b[0;34m'w'\u001b[0m\u001b[0;34m)\u001b[0m \u001b[0;32mas\u001b[0m \u001b[0mf\u001b[0m\u001b[0;34m:\u001b[0m\u001b[0;34m\u001b[0m\u001b[0;34m\u001b[0m\u001b[0m\n",
      "\u001b[0;31mFileNotFoundError\u001b[0m: [Errno 2] No such file or directory: '/Users/anishajauhari/Desktop/Sem 4/Independent Study /ResponsibleRelationExtraction/Models/et_lr_model_ACE2004.sav'"
     ]
    }
   ],
   "source": [
    "pred = logistic_regression_multiple_classes(x_train, x_test, y_train, y_test, \"et\")\n",
    "x_test_log_pred = x_test_original\n",
    "x_test_log_pred[\"label\"] = y_test\n",
    "x_test_log_pred[\"prediction\"] = pred\n",
    "x_test_log_pred.to_csv(\"/Users/anishajauhari/Desktop/Sem 4/Independent Study /ResponsibleRelationExtraction/Predictions/binary_logisitic_regression_prediction.csv\")"
   ]
  },
  {
   "cell_type": "code",
   "execution_count": 96,
   "id": "a87e9cca-f8b8-45bc-b2e8-958757d4bd5b",
   "metadata": {},
   "outputs": [
    {
     "name": "stdout",
     "output_type": "stream",
     "text": [
      "--------Random Forest-----------\n"
     ]
    }
   ],
   "source": [
    "pred = random_forest_multiple(x_train, x_test, y_train, y_test,\"et\")\n",
    "x_test_rf_pred = x_test_original\n",
    "x_test_rf_pred[\"label\"] = y_test\n",
    "x_test_rf_pred[\"prediction\"] = pred\n",
    "x_test_rf_pred.to_csv(\"/Users/anishajauhari/Desktop/Sem 4/Independent Study /ResponsibleRelationExtraction/Predictions/binary_random_forest_prediction.csv\")\n"
   ]
  },
  {
   "cell_type": "code",
   "execution_count": 97,
   "id": "7c671be0-5716-45aa-bdab-77a85eb58f8a",
   "metadata": {},
   "outputs": [
    {
     "name": "stdout",
     "output_type": "stream",
     "text": [
      "--------Support Vector Classifier linear-----------\n"
     ]
    }
   ],
   "source": [
    "pred = svm_multiple(\"linear\", x_train, x_test, y_train, y_test, \"et\")\n",
    "x_test_svm_pred = x_test_original\n",
    "x_test_svm_pred[\"label\"] = y_test\n",
    "x_test_svm_pred[\"prediction\"] = pred\n",
    "x_test_svm_pred.to_csv(\"/Users/anishajauhari/Desktop/Sem 4/Independent Study /ResponsibleRelationExtraction/Predictions/binary_svm_prediction.csv\")"
   ]
  },
  {
   "cell_type": "code",
   "execution_count": 98,
   "id": "13ec2e43-f819-438d-90c8-0e6bcf37d478",
   "metadata": {},
   "outputs": [
    {
     "name": "stdout",
     "output_type": "stream",
     "text": [
      "--------Support Vector Classifier rbf-----------\n"
     ]
    }
   ],
   "source": [
    "pred = svm_multiple(\"rbf\", x_train, x_test, y_train, y_test, \"et\")\n",
    "x_test_svmrbf_pred = x_test_original\n",
    "x_test_svmrbf_pred[\"label\"] = y_test\n",
    "x_test_svmrbf_pred[\"prediction\"] = pred\n",
    "x_test_svmrbf_pred.to_csv(\"/Users/anishajauhari/Desktop/Sem 4/Independent Study /ResponsibleRelationExtraction/Predictions/binary_svm_rbf_prediction.csv\")"
   ]
  },
  {
   "cell_type": "code",
   "execution_count": 99,
   "id": "8184afe2-605c-4e4e-90fd-4e7abccecacf",
   "metadata": {},
   "outputs": [
    {
     "name": "stdout",
     "output_type": "stream",
     "text": [
      "--------Support Vector Classifier poly-----------\n"
     ]
    }
   ],
   "source": [
    "pred = svm_multiple(\"poly\", x_train, x_test, y_train, y_test, \"et\")\n",
    "x_test_svmpoly_pred = x_test_original\n",
    "x_test_svmpoly_pred[\"label\"] = y_test\n",
    "x_test_svmpoly_pred[\"prediction\"] = pred\n",
    "x_test_svmpoly_pred.to_csv(\"/Users/anishajauhari/Desktop/Sem 4/Independent Study /ResponsibleRelationExtraction/Predictions/binary_svm_poly_prediction.csv\")\n"
   ]
  },
  {
   "cell_type": "code",
   "execution_count": 100,
   "id": "e8d8be13-bbe0-418c-886e-f54e63a36839",
   "metadata": {},
   "outputs": [],
   "source": [
    "pred = xgboost_multiple_class(x_train, x_test, y_train, y_test, \"et\")\n",
    "x_test_xg_pred = x_test_original\n",
    "x_test_xg_pred[\"label\"] = y_test\n",
    "x_test_xg_pred[\"prediction\"] = pred\n",
    "x_test_xg_pred.to_csv(\"/Users/anishajauhari/Desktop/Sem 4/Independent Study /ResponsibleRelationExtraction/Predictions/binary_xgboost_prediction.csv\")\n"
   ]
  },
  {
   "cell_type": "code",
   "execution_count": 101,
   "id": "df986c05-b1ad-4003-a351-6b41d85d4d4d",
   "metadata": {},
   "outputs": [],
   "source": [
    "pred = adaboost_multiple(x_train, x_test, y_train, y_test, \"et\")\n",
    "x_test_ada_pred = x_test_original\n",
    "x_test_ada_pred[\"label\"] = y_test\n",
    "x_test_ada_pred[\"prediction\"] = pred\n",
    "x_test_ada_pred.to_csv(\"/Users/anishajauhari/Desktop/Sem 4/Independent Study /ResponsibleRelationExtraction/Predictions/binary_adaboost_prediction.csv\")\n"
   ]
  },
  {
   "cell_type": "code",
   "execution_count": null,
   "id": "a68c6a29-4b20-45b5-92f4-c53786e3c00e",
   "metadata": {},
   "outputs": [],
   "source": []
  }
 ],
 "metadata": {
  "kernelspec": {
   "display_name": "Python 3 (ipykernel)",
   "language": "python",
   "name": "python3"
  },
  "language_info": {
   "codemirror_mode": {
    "name": "ipython",
    "version": 3
   },
   "file_extension": ".py",
   "mimetype": "text/x-python",
   "name": "python",
   "nbconvert_exporter": "python",
   "pygments_lexer": "ipython3",
   "version": "3.7.13"
  }
 },
 "nbformat": 4,
 "nbformat_minor": 5
}
