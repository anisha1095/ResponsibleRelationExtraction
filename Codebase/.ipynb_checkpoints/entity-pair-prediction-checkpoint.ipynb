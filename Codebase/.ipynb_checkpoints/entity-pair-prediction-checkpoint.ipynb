{
 "cells": [
  {
   "cell_type": "code",
   "execution_count": 1,
   "id": "cbb6434e",
   "metadata": {},
   "outputs": [
    {
     "ename": "SyntaxError",
     "evalue": "invalid syntax (1319647355.py, line 1)",
     "output_type": "error",
     "traceback": [
      "\u001b[0;36m  File \u001b[0;32m\"/var/folders/31/6ggvb33125xfgc3tmb1sf0l40000gn/T/ipykernel_13600/1319647355.py\"\u001b[0;36m, line \u001b[0;32m1\u001b[0m\n\u001b[0;31m    def xgboost_multiple_class((x_train, x_test, y_train, y_test, mod_type):\u001b[0m\n\u001b[0m                               ^\u001b[0m\n\u001b[0;31mSyntaxError\u001b[0m\u001b[0;31m:\u001b[0m invalid syntax\n"
     ]
    },
    {
     "ename": "SyntaxError",
     "evalue": "invalid syntax (1319647355.py, line 1)",
     "output_type": "error",
     "traceback": [
      "Traceback \u001b[0;36m(most recent call last)\u001b[0m:\n",
      "  File \u001b[1;32m\"/usr/local/anaconda3/lib/python3.7/site-packages/IPython/core/interactiveshell.py\"\u001b[0m, line \u001b[1;32m3457\u001b[0m, in \u001b[1;35mrun_code\u001b[0m\n    exec(code_obj, self.user_global_ns, self.user_ns)\n",
      "  File \u001b[1;32m\"/var/folders/31/6ggvb33125xfgc3tmb1sf0l40000gn/T/ipykernel_13600/3729037016.py\"\u001b[0m, line \u001b[1;32m6\u001b[0m, in \u001b[1;35m<module>\u001b[0m\n    get_ipython().run_line_magic('run', 'models.ipynb')\n",
      "  File \u001b[1;32m\"/usr/local/anaconda3/lib/python3.7/site-packages/IPython/core/interactiveshell.py\"\u001b[0m, line \u001b[1;32m2364\u001b[0m, in \u001b[1;35mrun_line_magic\u001b[0m\n    result = fn(*args, **kwargs)\n",
      "  File \u001b[1;32m\"/usr/local/anaconda3/lib/python3.7/site-packages/decorator.py\"\u001b[0m, line \u001b[1;32m232\u001b[0m, in \u001b[1;35mfun\u001b[0m\n    return caller(func, *(extras + args), **kw)\n",
      "  File \u001b[1;32m\"/usr/local/anaconda3/lib/python3.7/site-packages/IPython/core/magic.py\"\u001b[0m, line \u001b[1;32m187\u001b[0m, in \u001b[1;35m<lambda>\u001b[0m\n    call = lambda f, *a, **k: f(*a, **k)\n",
      "  File \u001b[1;32m\"/usr/local/anaconda3/lib/python3.7/site-packages/IPython/core/magics/execution.py\"\u001b[0m, line \u001b[1;32m735\u001b[0m, in \u001b[1;35mrun\u001b[0m\n    self.shell.safe_execfile_ipy(filename, raise_exceptions=True)\n",
      "  File \u001b[1;32m\"/usr/local/anaconda3/lib/python3.7/site-packages/IPython/core/interactiveshell.py\"\u001b[0m, line \u001b[1;32m2851\u001b[0m, in \u001b[1;35msafe_execfile_ipy\u001b[0m\n    result.raise_error()\n",
      "  File \u001b[1;32m\"/usr/local/anaconda3/lib/python3.7/site-packages/IPython/core/interactiveshell.py\"\u001b[0m, line \u001b[1;32m330\u001b[0m, in \u001b[1;35mraise_error\u001b[0m\n    raise self.error_before_exec\n",
      "  File \u001b[1;32m\"/usr/local/anaconda3/lib/python3.7/site-packages/IPython/core/interactiveshell.py\"\u001b[0m, line \u001b[1;32m3154\u001b[0m, in \u001b[1;35mrun_cell_async\u001b[0m\n    code_ast = compiler.ast_parse(cell, filename=cell_name)\n",
      "\u001b[0;36m  File \u001b[0;32m\"/usr/local/anaconda3/lib/python3.7/site-packages/IPython/core/compilerop.py\"\u001b[0;36m, line \u001b[0;32m101\u001b[0;36m, in \u001b[0;35mast_parse\u001b[0;36m\u001b[0m\n\u001b[0;31m    return compile(source, filename, symbol, self.flags | PyCF_ONLY_AST, 1)\u001b[0m\n",
      "\u001b[0;36m  File \u001b[0;32m\"/var/folders/31/6ggvb33125xfgc3tmb1sf0l40000gn/T/ipykernel_13600/1319647355.py\"\u001b[0;36m, line \u001b[0;32m1\u001b[0m\n\u001b[0;31m    def xgboost_multiple_class((x_train, x_test, y_train, y_test, mod_type):\u001b[0m\n\u001b[0m                               ^\u001b[0m\n\u001b[0;31mSyntaxError\u001b[0m\u001b[0;31m:\u001b[0m invalid syntax\n"
     ]
    }
   ],
   "source": [
    "import pandas as pd\n",
    "import pickle\n",
    "import warnings\n",
    "from sklearn.preprocessing import LabelEncoder\n",
    "\n",
    "%run models.ipynb\n",
    "pd.set_option('display.max_rows', 10)\n",
    "pd.set_option('display.max_columns', None)\n",
    "pd.set_option('display.width', None)\n",
    "pd.set_option('display.max_colwidth', -1)\n",
    "\n",
    "warnings.filterwarnings(\"ignore\")"
   ]
  },
  {
   "cell_type": "code",
   "execution_count": null,
   "id": "07621f3f",
   "metadata": {},
   "outputs": [],
   "source": [
    "dataset = \"ACE2004\"\n",
    "features = pd.read_csv(\"/Users/anishajauhari/Desktop/Sem 4/Independent Study /ResponsibleRelationExtraction/Features/features_\"+dataset+\".csv\", index_col=0)\n",
    "features.head(10)"
   ]
  },
  {
   "cell_type": "markdown",
   "id": "f63d4c54",
   "metadata": {},
   "source": [
    "## Feature Encoding"
   ]
  },
  {
   "cell_type": "code",
   "execution_count": null,
   "id": "eace507f",
   "metadata": {},
   "outputs": [],
   "source": [
    "ENT_TYPES = [\"PER\", \"GPE\", \"LOC\", \"ORG\", \"TIME\", \"NUM\", \"MISC\"]\n",
    "def recode_entity_types(value):\n",
    "    if value.lower() in [\"person\", \"per\"]:\n",
    "        return \"PERSON\"\n",
    "    elif value.lower() in [\"organisation\", \"org\"]:\n",
    "        return \"ORGANISATION\"\n",
    "    elif value.lower() in [\"time\"]:\n",
    "        return \"TIME\"\n",
    "    elif value.lower() in [\"number\", \"num\"]:\n",
    "        return \"NUMBER\"\n",
    "    elif value.lower() in [\"gpe\"]:\n",
    "        return \"GPE\"\n",
    "    elif value.lower() in [\"location\", \"loc\"]:\n",
    "        return \"LOCATION\"\n",
    "    else:\n",
    "        return \"MISC\""
   ]
  },
  {
   "cell_type": "code",
   "execution_count": null,
   "id": "7ea96cb0",
   "metadata": {},
   "outputs": [],
   "source": [
    "features[\"entity_type_1\"] = features[\"entity_type_1\"].apply(lambda x : recode_entity_types(x.split(\"-\")[0]))\n",
    "features[\"entity_type_2\"] = features[\"entity_type_2\"].apply(lambda x : recode_entity_types(x.split(\"-\")[0]))"
   ]
  },
  {
   "cell_type": "code",
   "execution_count": null,
   "id": "facfd4e8",
   "metadata": {},
   "outputs": [],
   "source": [
    "features[\"label\"] = features.apply(lambda x : f\"{x['entity_type_1']}-{x['entity_type_2']}\", axis=1)"
   ]
  },
  {
   "cell_type": "code",
   "execution_count": null,
   "id": "db85e908",
   "metadata": {},
   "outputs": [],
   "source": [
    "print(f\"Number of unique entity-type-paris : {len(features['label'].unique())}\")\n",
    "print(f\"Number of unique entity-type-paris : {features['label'].unique()}\")"
   ]
  },
  {
   "cell_type": "code",
   "execution_count": null,
   "id": "3bf970e1",
   "metadata": {},
   "outputs": [],
   "source": [
    "features.drop([\"entity_type_1\",\"entity_type_2\"], axis=1, inplace=True)"
   ]
  },
  {
   "cell_type": "code",
   "execution_count": null,
   "id": "342881f5",
   "metadata": {},
   "outputs": [],
   "source": [
    "features"
   ]
  },
  {
   "cell_type": "markdown",
   "id": "30478841",
   "metadata": {},
   "source": [
    "## Multiclass Classification"
   ]
  },
  {
   "cell_type": "code",
   "execution_count": null,
   "id": "e54c1d66",
   "metadata": {},
   "outputs": [],
   "source": [
    "# features_with_labels = pd.read_csv(\"features_\"+dataset+\".csv\")\n",
    "X = features.iloc[:,:-1]\n",
    "y_original =  features.iloc[:,-1]\n",
    "X = X.fillna(\"\")\n",
    "x_train_original, x_test_original, y_train_original, y_test_original = train_test_split(X, y_original, test_size=0.2, stratify=y)\n",
    "onehot_encoder = OneHotEncoder(sparse=False)\n",
    "x_train = onehot_encoder.fit_transform(x_train_original)\n",
    "x_test = onehot_encoder.transform(x_test_original)\n",
    "\n",
    "le = LabelEncoder()\n",
    "y_train = le.fit_transform(y_train_original)\n",
    "y_test = le.transform(y_test_original)\n"
   ]
  },
  {
   "cell_type": "code",
   "execution_count": null,
   "id": "1226a968",
   "metadata": {},
   "outputs": [],
   "source": [
    "unique, count = np.unique(y_original, return_counts = True)\n",
    "dict(zip(unique, count))"
   ]
  },
  {
   "cell_type": "code",
   "execution_count": null,
   "id": "d718c0b9",
   "metadata": {},
   "outputs": [],
   "source": [
    "pred = logistic_regression_multiple_classes(x_train, x_test, y_train, y_test, \"et\")\n",
    "x_test_log_pred = x_test_original\n",
    "x_test_log_pred[\"label\"] = y_test\n",
    "x_test_log_pred[\"prediction\"] = pred\n",
    "x_test_log_pred.to_csv(\"/Users/anishajauhari/Desktop/Sem 4/Independent Study /ResponsibleRelationExtraction/Predictions/binary_logisitic_regression_prediction.csv\")"
   ]
  },
  {
   "cell_type": "code",
   "execution_count": null,
   "id": "077384d6-cb15-4f6d-b1b6-a0f4ebeb2b1f",
   "metadata": {},
   "outputs": [],
   "source": [
    "pred = random_forest(x_train, x_test, y_train, y_test,\"et\")\n",
    "x_test_rf_pred = x_test_original\n",
    "x_test_rf_pred[\"label\"] = y_test\n",
    "x_test_rf_pred[\"prediction\"] = pred\n",
    "x_test_rf_pred.to_csv(\"/Users/anishajauhari/Desktop/Sem 4/Independent Study /ResponsibleRelationExtraction/Predictions/binary_random_forest_prediction.csv\")\n"
   ]
  },
  {
   "cell_type": "code",
   "execution_count": null,
   "id": "3702f100-fe83-4a0a-8fc0-ff14bfdf7991",
   "metadata": {},
   "outputs": [],
   "source": [
    "pred = svm(\"linear\", x_train, x_test, y_train, y_test, \"et\")\n",
    "x_test_svm_pred = x_test_original\n",
    "x_test_svm_pred[\"label\"] = y_test\n",
    "x_test_svm_pred[\"prediction\"] = pred\n",
    "x_test_svm_pred.to_csv(\"/Users/anishajauhari/Desktop/Sem 4/Independent Study /ResponsibleRelationExtraction/Predictions/binary_svm_prediction.csv\")"
   ]
  },
  {
   "cell_type": "code",
   "execution_count": null,
   "id": "97809aa5-422d-481c-b12b-3ecd8a404359",
   "metadata": {},
   "outputs": [],
   "source": [
    "pred = svm(\"rbf\", x_train, x_test, y_train, y_test, \"et\")\n",
    "x_test_svmrbf_pred = x_test_original\n",
    "x_test_svmrbf_pred[\"label\"] = y_test\n",
    "x_test_svmrbf_pred[\"prediction\"] = pred\n",
    "x_test_svmrbf_pred.to_csv(\"/Users/anishajauhari/Desktop/Sem 4/Independent Study /ResponsibleRelationExtraction/Predictions/binary_svm_rbf_prediction.csv\")"
   ]
  },
  {
   "cell_type": "code",
   "execution_count": null,
   "id": "ac7ed588-4b14-4a6a-9634-5da5d763ce63",
   "metadata": {},
   "outputs": [],
   "source": [
    "pred = svm(\"poly\", x_train, x_test, y_train, y_test, \"et\")\n",
    "x_test_svmpoly_pred = x_test_original\n",
    "x_test_svmpoly_pred[\"label\"] = y_test\n",
    "x_test_svmpoly_pred[\"prediction\"] = pred\n",
    "x_test_svmpoly_pred.to_csv(\"/Users/anishajauhari/Desktop/Sem 4/Independent Study /ResponsibleRelationExtraction/Predictions/binary_svm_poly_prediction.csv\")\n"
   ]
  },
  {
   "cell_type": "code",
   "execution_count": null,
   "id": "0a7d2a29-e471-484c-bb91-6f97ab77b4d9",
   "metadata": {},
   "outputs": [],
   "source": [
    "pred = xgboost_multiple_class(x_train, x_test, y_train, y_test, \"et\")\n",
    "x_test_xg_pred = x_test_original\n",
    "x_test_xg_pred[\"label\"] = y_test\n",
    "x_test_xg_pred[\"prediction\"] = pred\n",
    "x_test_xg_pred.to_csv(\"/Users/anishajauhari/Desktop/Sem 4/Independent Study /ResponsibleRelationExtraction/Predictions/binary_xgboost_prediction.csv\")\n"
   ]
  },
  {
   "cell_type": "code",
   "execution_count": null,
   "id": "d1bca593-e72a-40aa-b076-cc572be1c010",
   "metadata": {},
   "outputs": [],
   "source": [
    "pred = adaboost(x_train, x_test, y_train, y_test, \"et\")\n",
    "x_test_ada_pred = x_test_original\n",
    "x_test_ada_pred[\"label\"] = y_test\n",
    "x_test_ada_pred[\"prediction\"] = pred\n",
    "x_test_ada_pred.to_csv(\"/Users/anishajauhari/Desktop/Sem 4/Independent Study /ResponsibleRelationExtraction/Predictions/binary_adaboost_prediction.csv\")\n"
   ]
  }
 ],
 "metadata": {
  "kernelspec": {
   "display_name": "Python 3 (ipykernel)",
   "language": "python",
   "name": "python3"
  },
  "language_info": {
   "codemirror_mode": {
    "name": "ipython",
    "version": 3
   },
   "file_extension": ".py",
   "mimetype": "text/x-python",
   "name": "python",
   "nbconvert_exporter": "python",
   "pygments_lexer": "ipython3",
   "version": "3.7.13"
  }
 },
 "nbformat": 4,
 "nbformat_minor": 5
}
