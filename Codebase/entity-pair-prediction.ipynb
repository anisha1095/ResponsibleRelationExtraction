{
 "cells": [
  {
   "cell_type": "code",
   "execution_count": 1,
   "id": "cbb6434e",
   "metadata": {},
   "outputs": [],
   "source": [
    "import pandas as pd\n",
    "import numpy as np\n",
    "import pickle\n",
    "import warnings\n",
    "from sklearn.preprocessing import LabelEncoder\n",
    "\n",
    "%run models.ipynb\n",
    "pd.set_option('display.max_rows', 10)\n",
    "pd.set_option('display.max_columns', None)\n",
    "pd.set_option('display.width', None)\n",
    "pd.set_option('display.max_colwidth', -1)\n",
    "\n",
    "warnings.filterwarnings(\"ignore\")"
   ]
  },
  {
   "cell_type": "code",
   "execution_count": 37,
   "id": "07621f3f",
   "metadata": {},
   "outputs": [],
   "source": [
    "dataset = \"hlt\"\n",
    "columns = ['sent_index', 'sentence_length', 'root_word', 'root_index',\n",
    "       'entity_1_index', 'entity_2_index', 'entity_distance',\n",
    "       'no_words_before_entity_1', 'no_words_after_entity_2',\n",
    "       'entity_1_root_distance', 'entity_2_root_distance', 'entity 1 name',\n",
    "       'entity 2 name', 'entity_type_1', 'entity_type_2', 'entity_pos_1',\n",
    "       'entity_pos_2', 'entity_dep_1', 'entity_dep_2', 'entity_tag_1',\n",
    "       'entity_tag_2', 'shortest_distance', 'label']\n",
    "\n",
    "features = pd.read_csv(\"/Users/anishajauhari/Desktop/Sem 4/Independent Study /ResponsibleRelationExtraction/Features/features_\"+dataset+\".csv\", index_col=0)\n",
    "features = features[columns]\n",
    "features.head(10)\n",
    "features['entity_type_1'] = features['entity_type_1'].fillna(\"MISC\")\n",
    "features['entity_type_2'] = features['entity_type_2'].fillna(\"MISC\")"
   ]
  },
  {
   "cell_type": "markdown",
   "id": "f63d4c54",
   "metadata": {},
   "source": [
    "## Feature Encoding"
   ]
  },
  {
   "cell_type": "code",
   "execution_count": 38,
   "id": "eace507f",
   "metadata": {},
   "outputs": [],
   "source": [
    "ENT_TYPES = [\"PER\", \"GPE\", \"LOC\", \"ORG\", \"TIME\", \"NUM\", \"MISC\"]\n",
    "def recode_entity_types(value):\n",
    "    if value.lower() in [\"person\", \"per\"]:\n",
    "        return \"PERSON\"\n",
    "    elif value.lower() in [\"organisation\", \"org\"]:\n",
    "        return \"ORGANISATION\"\n",
    "    elif value.lower() in [\"time\"]:\n",
    "        return \"TIME\"\n",
    "    elif value.lower() in [\"number\", \"num\"]:\n",
    "        return \"NUMBER\"\n",
    "    elif value.lower() in [\"gpe\"]:\n",
    "        return \"GPE\"\n",
    "    elif value.lower() in [\"location\", \"loc\"]:\n",
    "        return \"LOCATION\"\n",
    "    else:\n",
    "        return \"MISC\""
   ]
  },
  {
   "cell_type": "code",
   "execution_count": 39,
   "id": "7ea96cb0",
   "metadata": {},
   "outputs": [],
   "source": [
    "features[\"entity_type_1\"] = features[\"entity_type_1\"].apply(lambda x : recode_entity_types(x.split(\"-\")[0]))\n",
    "features[\"entity_type_2\"] = features[\"entity_type_2\"].apply(lambda x : recode_entity_types(x.split(\"-\")[0]))"
   ]
  },
  {
   "cell_type": "code",
   "execution_count": 40,
   "id": "facfd4e8",
   "metadata": {},
   "outputs": [],
   "source": [
    "features[\"label\"] = features.apply(lambda x : f\"{x['entity_type_1']}-{x['entity_type_2']}\", axis=1)"
   ]
  },
  {
   "cell_type": "code",
   "execution_count": 41,
   "id": "db85e908",
   "metadata": {},
   "outputs": [
    {
     "name": "stdout",
     "output_type": "stream",
     "text": [
      "Number of unique entity-type-paris : 1\n",
      "Number of unique entity-type-paris : ['MISC-MISC']\n"
     ]
    }
   ],
   "source": [
    "print(f\"Number of unique entity-type-paris : {len(features['label'].unique())}\")\n",
    "print(f\"Number of unique entity-type-paris : {features['label'].unique()}\")"
   ]
  },
  {
   "cell_type": "code",
   "execution_count": 42,
   "id": "3bf970e1",
   "metadata": {},
   "outputs": [],
   "source": [
    "features.drop([\"entity_type_1\",\"entity_type_2\"], axis=1, inplace=True)"
   ]
  },
  {
   "cell_type": "code",
   "execution_count": 43,
   "id": "342881f5",
   "metadata": {},
   "outputs": [
    {
     "data": {
      "text/html": [
       "<div>\n",
       "<style scoped>\n",
       "    .dataframe tbody tr th:only-of-type {\n",
       "        vertical-align: middle;\n",
       "    }\n",
       "\n",
       "    .dataframe tbody tr th {\n",
       "        vertical-align: top;\n",
       "    }\n",
       "\n",
       "    .dataframe thead th {\n",
       "        text-align: right;\n",
       "    }\n",
       "</style>\n",
       "<table border=\"1\" class=\"dataframe\">\n",
       "  <thead>\n",
       "    <tr style=\"text-align: right;\">\n",
       "      <th></th>\n",
       "      <th>sent_index</th>\n",
       "      <th>sentence_length</th>\n",
       "      <th>root_word</th>\n",
       "      <th>root_index</th>\n",
       "      <th>entity_1_index</th>\n",
       "      <th>entity_2_index</th>\n",
       "      <th>entity_distance</th>\n",
       "      <th>no_words_before_entity_1</th>\n",
       "      <th>no_words_after_entity_2</th>\n",
       "      <th>entity_1_root_distance</th>\n",
       "      <th>entity_2_root_distance</th>\n",
       "      <th>entity 1 name</th>\n",
       "      <th>entity 2 name</th>\n",
       "      <th>entity_pos_1</th>\n",
       "      <th>entity_pos_2</th>\n",
       "      <th>entity_dep_1</th>\n",
       "      <th>entity_dep_2</th>\n",
       "      <th>entity_tag_1</th>\n",
       "      <th>entity_tag_2</th>\n",
       "      <th>shortest_distance</th>\n",
       "      <th>label</th>\n",
       "    </tr>\n",
       "  </thead>\n",
       "  <tbody>\n",
       "    <tr>\n",
       "      <th>0</th>\n",
       "      <td>0.0</td>\n",
       "      <td>32</td>\n",
       "      <td>acquire</td>\n",
       "      <td>14</td>\n",
       "      <td>10</td>\n",
       "      <td>16</td>\n",
       "      <td>6</td>\n",
       "      <td>9</td>\n",
       "      <td>15</td>\n",
       "      <td>4</td>\n",
       "      <td>2</td>\n",
       "      <td>Viacom</td>\n",
       "      <td>DreamWorks</td>\n",
       "      <td>PROPN</td>\n",
       "      <td>PROPN</td>\n",
       "      <td>compound</td>\n",
       "      <td>compound</td>\n",
       "      <td>NNP</td>\n",
       "      <td>NNP</td>\n",
       "      <td>3</td>\n",
       "      <td>MISC-MISC</td>\n",
       "    </tr>\n",
       "    <tr>\n",
       "      <th>1</th>\n",
       "      <td>1.0</td>\n",
       "      <td>23</td>\n",
       "      <td>established</td>\n",
       "      <td>3</td>\n",
       "      <td>6</td>\n",
       "      <td>19</td>\n",
       "      <td>13</td>\n",
       "      <td>5</td>\n",
       "      <td>3</td>\n",
       "      <td>-3</td>\n",
       "      <td>16</td>\n",
       "      <td>Andre Agassi</td>\n",
       "      <td>Las Vegas</td>\n",
       "      <td>PROPN-PROPN</td>\n",
       "      <td>PROPN-PROPN</td>\n",
       "      <td>compound-compound</td>\n",
       "      <td>compound-appos</td>\n",
       "      <td>NNP-NNP</td>\n",
       "      <td>NNP-NNP</td>\n",
       "      <td>6</td>\n",
       "      <td>MISC-MISC</td>\n",
       "    </tr>\n",
       "    <tr>\n",
       "      <th>2</th>\n",
       "      <td>5.0</td>\n",
       "      <td>24</td>\n",
       "      <td>started</td>\n",
       "      <td>1</td>\n",
       "      <td>7</td>\n",
       "      <td>20</td>\n",
       "      <td>13</td>\n",
       "      <td>6</td>\n",
       "      <td>3</td>\n",
       "      <td>-6</td>\n",
       "      <td>19</td>\n",
       "      <td>Andre Agassi</td>\n",
       "      <td>Las Vegas</td>\n",
       "      <td>PROPN-PROPN</td>\n",
       "      <td>PROPN-PROPN</td>\n",
       "      <td>compound-compound</td>\n",
       "      <td>compound-pobj</td>\n",
       "      <td>NNP-NNP</td>\n",
       "      <td>NNP-NNP</td>\n",
       "      <td>8</td>\n",
       "      <td>MISC-MISC</td>\n",
       "    </tr>\n",
       "    <tr>\n",
       "      <th>3</th>\n",
       "      <td>14.0</td>\n",
       "      <td>15</td>\n",
       "      <td>Agassi</td>\n",
       "      <td>1</td>\n",
       "      <td>1</td>\n",
       "      <td>13</td>\n",
       "      <td>12</td>\n",
       "      <td>0</td>\n",
       "      <td>1</td>\n",
       "      <td>0</td>\n",
       "      <td>12</td>\n",
       "      <td>Andre Agassi</td>\n",
       "      <td>Las Vegas</td>\n",
       "      <td>PROPN-PROPN</td>\n",
       "      <td>PROPN-PROPN</td>\n",
       "      <td>compound-ROOT</td>\n",
       "      <td>compound-pobj</td>\n",
       "      <td>NNP-NNP</td>\n",
       "      <td>NNP-NNP</td>\n",
       "      <td>3</td>\n",
       "      <td>MISC-MISC</td>\n",
       "    </tr>\n",
       "    <tr>\n",
       "      <th>4</th>\n",
       "      <td>17.0</td>\n",
       "      <td>16</td>\n",
       "      <td>born</td>\n",
       "      <td>3</td>\n",
       "      <td>1</td>\n",
       "      <td>12</td>\n",
       "      <td>11</td>\n",
       "      <td>0</td>\n",
       "      <td>3</td>\n",
       "      <td>2</td>\n",
       "      <td>9</td>\n",
       "      <td>Andre Agassi</td>\n",
       "      <td>Las Vegas</td>\n",
       "      <td>PROPN-PROPN</td>\n",
       "      <td>PROPN-PROPN</td>\n",
       "      <td>compound-nsubjpass</td>\n",
       "      <td>compound-pobj</td>\n",
       "      <td>NNP-NNP</td>\n",
       "      <td>NNP-NNP</td>\n",
       "      <td>3</td>\n",
       "      <td>MISC-MISC</td>\n",
       "    </tr>\n",
       "    <tr>\n",
       "      <th>...</th>\n",
       "      <td>...</td>\n",
       "      <td>...</td>\n",
       "      <td>...</td>\n",
       "      <td>...</td>\n",
       "      <td>...</td>\n",
       "      <td>...</td>\n",
       "      <td>...</td>\n",
       "      <td>...</td>\n",
       "      <td>...</td>\n",
       "      <td>...</td>\n",
       "      <td>...</td>\n",
       "      <td>...</td>\n",
       "      <td>...</td>\n",
       "      <td>...</td>\n",
       "      <td>...</td>\n",
       "      <td>...</td>\n",
       "      <td>...</td>\n",
       "      <td>...</td>\n",
       "      <td>...</td>\n",
       "      <td>...</td>\n",
       "      <td>...</td>\n",
       "    </tr>\n",
       "    <tr>\n",
       "      <th>246</th>\n",
       "      <td>242.0</td>\n",
       "      <td>31</td>\n",
       "      <td>Watson</td>\n",
       "      <td>0</td>\n",
       "      <td>7</td>\n",
       "      <td>18</td>\n",
       "      <td>11</td>\n",
       "      <td>6</td>\n",
       "      <td>12</td>\n",
       "      <td>-7</td>\n",
       "      <td>18</td>\n",
       "      <td>Francis Crick</td>\n",
       "      <td>Nobel Prize</td>\n",
       "      <td>PROPN-PROPN</td>\n",
       "      <td>PROPN-PROPN</td>\n",
       "      <td>compound-ROOT</td>\n",
       "      <td>compound-dobj</td>\n",
       "      <td>NNP-NNP</td>\n",
       "      <td>NNP-NNP</td>\n",
       "      <td>-1</td>\n",
       "      <td>MISC-MISC</td>\n",
       "    </tr>\n",
       "    <tr>\n",
       "      <th>247</th>\n",
       "      <td>245.0</td>\n",
       "      <td>12</td>\n",
       "      <td>received</td>\n",
       "      <td>6</td>\n",
       "      <td>5</td>\n",
       "      <td>8</td>\n",
       "      <td>3</td>\n",
       "      <td>4</td>\n",
       "      <td>3</td>\n",
       "      <td>1</td>\n",
       "      <td>2</td>\n",
       "      <td>Francis Crick</td>\n",
       "      <td>Nobel Prize</td>\n",
       "      <td>PROPN-PROPN</td>\n",
       "      <td>PROPN-PROPN</td>\n",
       "      <td>compound-nsubj</td>\n",
       "      <td>compound-dobj</td>\n",
       "      <td>NNP-NNP</td>\n",
       "      <td>NNP-NNP</td>\n",
       "      <td>2</td>\n",
       "      <td>MISC-MISC</td>\n",
       "    </tr>\n",
       "    <tr>\n",
       "      <th>248</th>\n",
       "      <td>247.0</td>\n",
       "      <td>19</td>\n",
       "      <td>describe</td>\n",
       "      <td>5</td>\n",
       "      <td>4</td>\n",
       "      <td>14</td>\n",
       "      <td>10</td>\n",
       "      <td>3</td>\n",
       "      <td>4</td>\n",
       "      <td>1</td>\n",
       "      <td>9</td>\n",
       "      <td>Francis Crick</td>\n",
       "      <td>Nobel Prize</td>\n",
       "      <td>PROPN-PROPN</td>\n",
       "      <td>PROPN-PROPN</td>\n",
       "      <td>compound-conj</td>\n",
       "      <td>compound-dobj</td>\n",
       "      <td>NNP-NNP</td>\n",
       "      <td>NNP-NNP</td>\n",
       "      <td>4</td>\n",
       "      <td>MISC-MISC</td>\n",
       "    </tr>\n",
       "    <tr>\n",
       "      <th>249</th>\n",
       "      <td>248.0</td>\n",
       "      <td>24</td>\n",
       "      <td>discovered</td>\n",
       "      <td>11</td>\n",
       "      <td>10</td>\n",
       "      <td>22</td>\n",
       "      <td>12</td>\n",
       "      <td>9</td>\n",
       "      <td>1</td>\n",
       "      <td>1</td>\n",
       "      <td>11</td>\n",
       "      <td>Francis Crick</td>\n",
       "      <td>Nobel Prize</td>\n",
       "      <td>PROPN-PROPN</td>\n",
       "      <td>PROPN-PROPN</td>\n",
       "      <td>compound-conj</td>\n",
       "      <td>compound-dobj</td>\n",
       "      <td>NNP-NNP</td>\n",
       "      <td>NNP-NNP</td>\n",
       "      <td>5</td>\n",
       "      <td>MISC-MISC</td>\n",
       "    </tr>\n",
       "    <tr>\n",
       "      <th>250</th>\n",
       "      <td>249.0</td>\n",
       "      <td>33</td>\n",
       "      <td>gone</td>\n",
       "      <td>10</td>\n",
       "      <td>13</td>\n",
       "      <td>24</td>\n",
       "      <td>11</td>\n",
       "      <td>12</td>\n",
       "      <td>8</td>\n",
       "      <td>-3</td>\n",
       "      <td>14</td>\n",
       "      <td>Francis Crick</td>\n",
       "      <td>Nobel Prize</td>\n",
       "      <td>PROPN-PROPN</td>\n",
       "      <td>PROPN-PROPN</td>\n",
       "      <td>compound-pobj</td>\n",
       "      <td>compound-dobj</td>\n",
       "      <td>NNP-NNP</td>\n",
       "      <td>NNP-NNP</td>\n",
       "      <td>2</td>\n",
       "      <td>MISC-MISC</td>\n",
       "    </tr>\n",
       "  </tbody>\n",
       "</table>\n",
       "<p>251 rows × 21 columns</p>\n",
       "</div>"
      ],
      "text/plain": [
       "     sent_index  sentence_length    root_word  root_index  entity_1_index  \\\n",
       "0    0.0         32               acquire      14          10               \n",
       "1    1.0         23               established  3           6                \n",
       "2    5.0         24               started      1           7                \n",
       "3    14.0        15               Agassi       1           1                \n",
       "4    17.0        16               born         3           1                \n",
       "..    ...        ..                ...        ..          ..                \n",
       "246  242.0       31               Watson       0           7                \n",
       "247  245.0       12               received     6           5                \n",
       "248  247.0       19               describe     5           4                \n",
       "249  248.0       24               discovered   11          10               \n",
       "250  249.0       33               gone         10          13               \n",
       "\n",
       "     entity_2_index  entity_distance  no_words_before_entity_1  \\\n",
       "0    16              6                9                          \n",
       "1    19              13               5                          \n",
       "2    20              13               6                          \n",
       "3    13              12               0                          \n",
       "4    12              11               0                          \n",
       "..   ..              ..              ..                          \n",
       "246  18              11               6                          \n",
       "247  8               3                4                          \n",
       "248  14              10               3                          \n",
       "249  22              12               9                          \n",
       "250  24              11               12                         \n",
       "\n",
       "     no_words_after_entity_2  entity_1_root_distance  entity_2_root_distance  \\\n",
       "0    15                       4                       2                        \n",
       "1    3                       -3                       16                       \n",
       "2    3                       -6                       19                       \n",
       "3    1                        0                       12                       \n",
       "4    3                        2                       9                        \n",
       "..  ..                       ..                      ..                        \n",
       "246  12                      -7                       18                       \n",
       "247  3                        1                       2                        \n",
       "248  4                        1                       9                        \n",
       "249  1                        1                       11                       \n",
       "250  8                       -3                       14                       \n",
       "\n",
       "     entity 1 name entity 2 name entity_pos_1 entity_pos_2  \\\n",
       "0    Viacom         DreamWorks    PROPN        PROPN         \n",
       "1    Andre Agassi   Las Vegas     PROPN-PROPN  PROPN-PROPN   \n",
       "2    Andre Agassi   Las Vegas     PROPN-PROPN  PROPN-PROPN   \n",
       "3    Andre Agassi   Las Vegas     PROPN-PROPN  PROPN-PROPN   \n",
       "4    Andre Agassi   Las Vegas     PROPN-PROPN  PROPN-PROPN   \n",
       "..            ...         ...             ...          ...   \n",
       "246  Francis Crick  Nobel Prize   PROPN-PROPN  PROPN-PROPN   \n",
       "247  Francis Crick  Nobel Prize   PROPN-PROPN  PROPN-PROPN   \n",
       "248  Francis Crick  Nobel Prize   PROPN-PROPN  PROPN-PROPN   \n",
       "249  Francis Crick  Nobel Prize   PROPN-PROPN  PROPN-PROPN   \n",
       "250  Francis Crick  Nobel Prize   PROPN-PROPN  PROPN-PROPN   \n",
       "\n",
       "           entity_dep_1    entity_dep_2 entity_tag_1 entity_tag_2  \\\n",
       "0    compound            compound        NNP          NNP           \n",
       "1    compound-compound   compound-appos  NNP-NNP      NNP-NNP       \n",
       "2    compound-compound   compound-pobj   NNP-NNP      NNP-NNP       \n",
       "3    compound-ROOT       compound-pobj   NNP-NNP      NNP-NNP       \n",
       "4    compound-nsubjpass  compound-pobj   NNP-NNP      NNP-NNP       \n",
       "..                  ...            ...       ...          ...       \n",
       "246  compound-ROOT       compound-dobj   NNP-NNP      NNP-NNP       \n",
       "247  compound-nsubj      compound-dobj   NNP-NNP      NNP-NNP       \n",
       "248  compound-conj       compound-dobj   NNP-NNP      NNP-NNP       \n",
       "249  compound-conj       compound-dobj   NNP-NNP      NNP-NNP       \n",
       "250  compound-pobj       compound-dobj   NNP-NNP      NNP-NNP       \n",
       "\n",
       "     shortest_distance      label  \n",
       "0    3                  MISC-MISC  \n",
       "1    6                  MISC-MISC  \n",
       "2    8                  MISC-MISC  \n",
       "3    3                  MISC-MISC  \n",
       "4    3                  MISC-MISC  \n",
       "..  ..                        ...  \n",
       "246 -1                  MISC-MISC  \n",
       "247  2                  MISC-MISC  \n",
       "248  4                  MISC-MISC  \n",
       "249  5                  MISC-MISC  \n",
       "250  2                  MISC-MISC  \n",
       "\n",
       "[251 rows x 21 columns]"
      ]
     },
     "execution_count": 43,
     "metadata": {},
     "output_type": "execute_result"
    }
   ],
   "source": [
    "features"
   ]
  },
  {
   "cell_type": "markdown",
   "id": "30478841",
   "metadata": {},
   "source": [
    "## Multiclass Classification"
   ]
  },
  {
   "cell_type": "code",
   "execution_count": 44,
   "id": "2fd25aaf-6d38-4d10-90fa-68a446c68a60",
   "metadata": {},
   "outputs": [],
   "source": [
    "features[\"label\"].value_counts()\n",
    "features = features.groupby('label').filter(lambda x : len(x)>2)"
   ]
  },
  {
   "cell_type": "code",
   "execution_count": 45,
   "id": "d7e8e550-c929-4d27-b488-1565fb36ed02",
   "metadata": {},
   "outputs": [
    {
     "data": {
      "text/plain": [
       "MISC-MISC    251\n",
       "Name: label, dtype: int64"
      ]
     },
     "execution_count": 45,
     "metadata": {},
     "output_type": "execute_result"
    }
   ],
   "source": [
    "features[\"label\"].value_counts()"
   ]
  },
  {
   "cell_type": "code",
   "execution_count": 46,
   "id": "e54c1d66",
   "metadata": {},
   "outputs": [],
   "source": [
    "# features_with_labels = pd.read_csv(\"features_\"+dataset+\".csv\")\n",
    "X = features.iloc[:,:-1]\n",
    "X = X.fillna(\"\")\n",
    "y_original =  features.iloc[:,-1]\n",
    "\n",
    "x_train_original, x_test_original, y_train_original, y_test_original = train_test_split(X, y_original, test_size=0.2, stratify=y_original)\n",
    "onehot_encoder = OneHotEncoder(sparse=False, handle_unknown=\"ignore\")\n",
    "x_train = onehot_encoder.fit_transform(x_train_original)\n",
    "x_test = onehot_encoder.transform(x_test_original)\n",
    "\n",
    "le = LabelEncoder()\n",
    "y_train = le.fit_transform(y_train_original)\n",
    "y_test = le.transform(y_test_original)\n"
   ]
  },
  {
   "cell_type": "code",
   "execution_count": 47,
   "id": "1226a968",
   "metadata": {},
   "outputs": [
    {
     "data": {
      "text/plain": [
       "{'MISC-MISC': 251}"
      ]
     },
     "execution_count": 47,
     "metadata": {},
     "output_type": "execute_result"
    }
   ],
   "source": [
    "unique, count = np.unique(y_original, return_counts = True)\n",
    "dict(zip(unique, count))"
   ]
  },
  {
   "cell_type": "code",
   "execution_count": 48,
   "id": "d718c0b9",
   "metadata": {},
   "outputs": [
    {
     "name": "stdout",
     "output_type": "stream",
     "text": [
      "--------Logistic Regression-----------\n"
     ]
    },
    {
     "ename": "ValueError",
     "evalue": "This solver needs samples of at least 2 classes in the data, but the data contains only one class: 0",
     "output_type": "error",
     "traceback": [
      "\u001b[0;31m---------------------------------------------------------------------------\u001b[0m",
      "\u001b[0;31mValueError\u001b[0m                                Traceback (most recent call last)",
      "\u001b[0;32m/var/folders/31/6ggvb33125xfgc3tmb1sf0l40000gn/T/ipykernel_20025/152594369.py\u001b[0m in \u001b[0;36m<module>\u001b[0;34m\u001b[0m\n\u001b[0;32m----> 1\u001b[0;31m \u001b[0mpred\u001b[0m \u001b[0;34m=\u001b[0m \u001b[0mlogistic_regression_multiple_classes\u001b[0m\u001b[0;34m(\u001b[0m\u001b[0mx_train\u001b[0m\u001b[0;34m,\u001b[0m \u001b[0mx_test\u001b[0m\u001b[0;34m,\u001b[0m \u001b[0my_train\u001b[0m\u001b[0;34m,\u001b[0m \u001b[0my_test\u001b[0m\u001b[0;34m,\u001b[0m \u001b[0;34m\"et\"\u001b[0m\u001b[0;34m)\u001b[0m\u001b[0;34m\u001b[0m\u001b[0;34m\u001b[0m\u001b[0m\n\u001b[0m\u001b[1;32m      2\u001b[0m \u001b[0mx_test_log_pred\u001b[0m \u001b[0;34m=\u001b[0m \u001b[0mx_test_original\u001b[0m\u001b[0;34m\u001b[0m\u001b[0;34m\u001b[0m\u001b[0m\n\u001b[1;32m      3\u001b[0m \u001b[0mx_test_log_pred\u001b[0m\u001b[0;34m[\u001b[0m\u001b[0;34m\"label\"\u001b[0m\u001b[0;34m]\u001b[0m \u001b[0;34m=\u001b[0m \u001b[0my_test\u001b[0m\u001b[0;34m\u001b[0m\u001b[0;34m\u001b[0m\u001b[0m\n\u001b[1;32m      4\u001b[0m \u001b[0mx_test_log_pred\u001b[0m\u001b[0;34m[\u001b[0m\u001b[0;34m\"prediction\"\u001b[0m\u001b[0;34m]\u001b[0m \u001b[0;34m=\u001b[0m \u001b[0mpred\u001b[0m\u001b[0;34m\u001b[0m\u001b[0;34m\u001b[0m\u001b[0m\n\u001b[1;32m      5\u001b[0m \u001b[0mx_test_log_pred\u001b[0m\u001b[0;34m.\u001b[0m\u001b[0mto_csv\u001b[0m\u001b[0;34m(\u001b[0m\u001b[0;34m\"/Users/anishajauhari/Desktop/Sem 4/Independent Study /ResponsibleRelationExtraction/Predictions/binary_logisitic_regression_prediction.csv\"\u001b[0m\u001b[0;34m)\u001b[0m\u001b[0;34m\u001b[0m\u001b[0;34m\u001b[0m\u001b[0m\n",
      "\u001b[0;32m/var/folders/31/6ggvb33125xfgc3tmb1sf0l40000gn/T/ipykernel_20025/1955711112.py\u001b[0m in \u001b[0;36mlogistic_regression_multiple_classes\u001b[0;34m(x_train, x_test, y_train, y_test, mod_type)\u001b[0m\n\u001b[1;32m      2\u001b[0m     \u001b[0mprint\u001b[0m\u001b[0;34m(\u001b[0m\u001b[0;34m\"--------Logistic Regression-----------\"\u001b[0m\u001b[0;34m)\u001b[0m\u001b[0;34m\u001b[0m\u001b[0;34m\u001b[0m\u001b[0m\n\u001b[1;32m      3\u001b[0m     \u001b[0mlr\u001b[0m \u001b[0;34m=\u001b[0m \u001b[0mLogisticRegression\u001b[0m\u001b[0;34m(\u001b[0m\u001b[0mmulti_class\u001b[0m\u001b[0;34m=\u001b[0m\u001b[0;34m'multinomial'\u001b[0m\u001b[0;34m,\u001b[0m \u001b[0msolver\u001b[0m\u001b[0;34m=\u001b[0m\u001b[0;34m'lbfgs'\u001b[0m\u001b[0;34m)\u001b[0m\u001b[0;34m\u001b[0m\u001b[0;34m\u001b[0m\u001b[0m\n\u001b[0;32m----> 4\u001b[0;31m     \u001b[0mlr\u001b[0m\u001b[0;34m.\u001b[0m\u001b[0mfit\u001b[0m\u001b[0;34m(\u001b[0m\u001b[0mx_train\u001b[0m\u001b[0;34m,\u001b[0m \u001b[0my_train\u001b[0m\u001b[0;34m)\u001b[0m\u001b[0;34m\u001b[0m\u001b[0;34m\u001b[0m\u001b[0m\n\u001b[0m\u001b[1;32m      5\u001b[0m     \u001b[0my_pred\u001b[0m\u001b[0;34m=\u001b[0m\u001b[0mlr\u001b[0m\u001b[0;34m.\u001b[0m\u001b[0mpredict\u001b[0m\u001b[0;34m(\u001b[0m\u001b[0mx_test\u001b[0m\u001b[0;34m)\u001b[0m\u001b[0;34m\u001b[0m\u001b[0;34m\u001b[0m\u001b[0m\n\u001b[1;32m      6\u001b[0m     \u001b[0mpickle\u001b[0m\u001b[0;34m.\u001b[0m\u001b[0mdump\u001b[0m\u001b[0;34m(\u001b[0m\u001b[0mlr\u001b[0m\u001b[0;34m,\u001b[0m \u001b[0mopen\u001b[0m\u001b[0;34m(\u001b[0m\u001b[0;34m\"/Users/anishajauhari/Desktop/Sem 4/Independent Study /ResponsibleRelationExtraction/Models/\"\u001b[0m\u001b[0;34m+\u001b[0m\u001b[0mmod_type\u001b[0m\u001b[0;34m+\u001b[0m\u001b[0;34m\"_lr_model_\"\u001b[0m\u001b[0;34m+\u001b[0m\u001b[0mdataset\u001b[0m\u001b[0;34m+\u001b[0m\u001b[0;34m\".sav\"\u001b[0m\u001b[0;34m,\u001b[0m \u001b[0;34m\"wb\"\u001b[0m\u001b[0;34m)\u001b[0m\u001b[0;34m)\u001b[0m\u001b[0;34m\u001b[0m\u001b[0;34m\u001b[0m\u001b[0m\n",
      "\u001b[0;32m/usr/local/anaconda3/lib/python3.7/site-packages/sklearn/linear_model/_logistic.py\u001b[0m in \u001b[0;36mfit\u001b[0;34m(self, X, y, sample_weight)\u001b[0m\n\u001b[1;32m   1556\u001b[0m                 \u001b[0;34m\" in the data, but the data contains only one\"\u001b[0m\u001b[0;34m\u001b[0m\u001b[0;34m\u001b[0m\u001b[0m\n\u001b[1;32m   1557\u001b[0m                 \u001b[0;34m\" class: %r\"\u001b[0m\u001b[0;34m\u001b[0m\u001b[0;34m\u001b[0m\u001b[0m\n\u001b[0;32m-> 1558\u001b[0;31m                 \u001b[0;34m%\u001b[0m \u001b[0mclasses_\u001b[0m\u001b[0;34m[\u001b[0m\u001b[0;36m0\u001b[0m\u001b[0;34m]\u001b[0m\u001b[0;34m\u001b[0m\u001b[0;34m\u001b[0m\u001b[0m\n\u001b[0m\u001b[1;32m   1559\u001b[0m             )\n\u001b[1;32m   1560\u001b[0m \u001b[0;34m\u001b[0m\u001b[0m\n",
      "\u001b[0;31mValueError\u001b[0m: This solver needs samples of at least 2 classes in the data, but the data contains only one class: 0"
     ]
    }
   ],
   "source": [
    "pred = logistic_regression_multiple_classes(x_train, x_test, y_train, y_test, \"et\")\n",
    "x_test_log_pred = x_test_original\n",
    "x_test_log_pred[\"label\"] = y_test\n",
    "x_test_log_pred[\"prediction\"] = pred\n",
    "x_test_log_pred.to_csv(\"/Users/anishajauhari/Desktop/Sem 4/Independent Study /ResponsibleRelationExtraction/Predictions/binary_logisitic_regression_prediction.csv\")"
   ]
  },
  {
   "cell_type": "code",
   "execution_count": 49,
   "id": "077384d6-cb15-4f6d-b1b6-a0f4ebeb2b1f",
   "metadata": {},
   "outputs": [
    {
     "name": "stdout",
     "output_type": "stream",
     "text": [
      "--------Random Forest-----------\n"
     ]
    }
   ],
   "source": [
    "pred = random_forest_multiple(x_train, x_test, y_train, y_test,\"et\")\n",
    "x_test_rf_pred = x_test_original\n",
    "x_test_rf_pred[\"label\"] = y_test\n",
    "x_test_rf_pred[\"prediction\"] = pred\n",
    "x_test_rf_pred.to_csv(\"/Users/anishajauhari/Desktop/Sem 4/Independent Study /ResponsibleRelationExtraction/Predictions/binary_random_forest_prediction.csv\")\n"
   ]
  },
  {
   "cell_type": "code",
   "execution_count": 18,
   "id": "3702f100-fe83-4a0a-8fc0-ff14bfdf7991",
   "metadata": {},
   "outputs": [
    {
     "name": "stdout",
     "output_type": "stream",
     "text": [
      "--------Support Vector Classifier linear-----------\n"
     ]
    }
   ],
   "source": [
    "pred = svm_multiple(\"linear\", x_train, x_test, y_train, y_test, \"et\")\n",
    "x_test_svm_pred = x_test_original\n",
    "x_test_svm_pred[\"label\"] = y_test\n",
    "x_test_svm_pred[\"prediction\"] = pred\n",
    "x_test_svm_pred.to_csv(\"/Users/anishajauhari/Desktop/Sem 4/Independent Study /ResponsibleRelationExtraction/Predictions/binary_svm_prediction.csv\")"
   ]
  },
  {
   "cell_type": "code",
   "execution_count": 19,
   "id": "97809aa5-422d-481c-b12b-3ecd8a404359",
   "metadata": {},
   "outputs": [
    {
     "name": "stdout",
     "output_type": "stream",
     "text": [
      "--------Support Vector Classifier rbf-----------\n"
     ]
    }
   ],
   "source": [
    "pred = svm_multiple(\"rbf\", x_train, x_test, y_train, y_test, \"et\")\n",
    "x_test_svmrbf_pred = x_test_original\n",
    "x_test_svmrbf_pred[\"label\"] = y_test\n",
    "x_test_svmrbf_pred[\"prediction\"] = pred\n",
    "x_test_svmrbf_pred.to_csv(\"/Users/anishajauhari/Desktop/Sem 4/Independent Study /ResponsibleRelationExtraction/Predictions/binary_svm_rbf_prediction.csv\")"
   ]
  },
  {
   "cell_type": "code",
   "execution_count": 34,
   "id": "ac7ed588-4b14-4a6a-9634-5da5d763ce63",
   "metadata": {},
   "outputs": [
    {
     "name": "stdout",
     "output_type": "stream",
     "text": [
      "--------Support Vector Classifier poly-----------\n"
     ]
    }
   ],
   "source": [
    "pred = svm_multiple(\"poly\", x_train, x_test, y_train, y_test, \"et\")\n",
    "x_test_svmpoly_pred = x_test_original\n",
    "x_test_svmpoly_pred[\"label\"] = y_test\n",
    "x_test_svmpoly_pred[\"prediction\"] = pred\n",
    "x_test_svmpoly_pred.to_csv(\"/Users/anishajauhari/Desktop/Sem 4/Independent Study /ResponsibleRelationExtraction/Predictions/binary_svm_poly_prediction.csv\")\n"
   ]
  },
  {
   "cell_type": "code",
   "execution_count": 35,
   "id": "0a7d2a29-e471-484c-bb91-6f97ab77b4d9",
   "metadata": {},
   "outputs": [],
   "source": [
    "pred = xgboost_multiple_class(x_train, x_test, y_train, y_test, \"et\")\n",
    "x_test_xg_pred = x_test_original\n",
    "x_test_xg_pred[\"label\"] = y_test\n",
    "x_test_xg_pred[\"prediction\"] = pred\n",
    "x_test_xg_pred.to_csv(\"/Users/anishajauhari/Desktop/Sem 4/Independent Study /ResponsibleRelationExtraction/Predictions/binary_xgboost_prediction.csv\")\n"
   ]
  },
  {
   "cell_type": "code",
   "execution_count": 36,
   "id": "d1bca593-e72a-40aa-b076-cc572be1c010",
   "metadata": {},
   "outputs": [],
   "source": [
    "pred = adaboost_multiple(x_train, x_test, y_train, y_test, \"et\")\n",
    "x_test_ada_pred = x_test_original\n",
    "x_test_ada_pred[\"label\"] = y_test\n",
    "x_test_ada_pred[\"prediction\"] = pred\n",
    "x_test_ada_pred.to_csv(\"/Users/anishajauhari/Desktop/Sem 4/Independent Study /ResponsibleRelationExtraction/Predictions/binary_adaboost_prediction.csv\")\n"
   ]
  },
  {
   "cell_type": "code",
   "execution_count": null,
   "id": "1e5b319e-c62a-49d2-8cca-1f74d4b31c83",
   "metadata": {},
   "outputs": [],
   "source": []
  },
  {
   "cell_type": "code",
   "execution_count": null,
   "id": "bfa49f52-f030-4425-8313-3361e6e6cd6e",
   "metadata": {},
   "outputs": [],
   "source": []
  }
 ],
 "metadata": {
  "kernelspec": {
   "display_name": "Python 3 (ipykernel)",
   "language": "python",
   "name": "python3"
  },
  "language_info": {
   "codemirror_mode": {
    "name": "ipython",
    "version": 3
   },
   "file_extension": ".py",
   "mimetype": "text/x-python",
   "name": "python",
   "nbconvert_exporter": "python",
   "pygments_lexer": "ipython3",
   "version": "3.7.13"
  }
 },
 "nbformat": 4,
 "nbformat_minor": 5
}
