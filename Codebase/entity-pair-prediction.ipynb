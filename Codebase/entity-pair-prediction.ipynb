{
 "cells": [
  {
   "cell_type": "code",
   "execution_count": 23,
   "id": "cbb6434e",
   "metadata": {},
   "outputs": [],
   "source": [
    "import pandas as pd\n",
    "import numpy as np\n",
    "import pickle\n",
    "import warnings\n",
    "from sklearn.preprocessing import LabelEncoder\n",
    "\n",
    "%run models.ipynb\n",
    "pd.set_option('display.max_rows', 10)\n",
    "pd.set_option('display.max_columns', None)\n",
    "pd.set_option('display.width', None)\n",
    "pd.set_option('display.max_colwidth', -1)\n",
    "\n",
    "warnings.filterwarnings(\"ignore\")"
   ]
  },
  {
   "cell_type": "code",
   "execution_count": 85,
   "id": "07621f3f",
   "metadata": {},
   "outputs": [
    {
     "data": {
      "text/html": [
       "<div>\n",
       "<style scoped>\n",
       "    .dataframe tbody tr th:only-of-type {\n",
       "        vertical-align: middle;\n",
       "    }\n",
       "\n",
       "    .dataframe tbody tr th {\n",
       "        vertical-align: top;\n",
       "    }\n",
       "\n",
       "    .dataframe thead th {\n",
       "        text-align: right;\n",
       "    }\n",
       "</style>\n",
       "<table border=\"1\" class=\"dataframe\">\n",
       "  <thead>\n",
       "    <tr style=\"text-align: right;\">\n",
       "      <th></th>\n",
       "      <th>sentence_length</th>\n",
       "      <th>root_word</th>\n",
       "      <th>root_index</th>\n",
       "      <th>entity_1_index</th>\n",
       "      <th>entity_2_index</th>\n",
       "      <th>entity_distance</th>\n",
       "      <th>no_words_before_entity_1</th>\n",
       "      <th>no_words_after_entity_2</th>\n",
       "      <th>entity_1_root_distance</th>\n",
       "      <th>entity_2_root_distance</th>\n",
       "      <th>entity 1 name</th>\n",
       "      <th>entity 2 name</th>\n",
       "      <th>entity_pos_1</th>\n",
       "      <th>entity_pos_2</th>\n",
       "      <th>entity_dep_1</th>\n",
       "      <th>entity_dep_2</th>\n",
       "      <th>shortest_distance</th>\n",
       "      <th>label</th>\n",
       "    </tr>\n",
       "  </thead>\n",
       "  <tbody>\n",
       "    <tr>\n",
       "      <th>21</th>\n",
       "      <td>23</td>\n",
       "      <td>shows</td>\n",
       "      <td>9</td>\n",
       "      <td>7</td>\n",
       "      <td>9</td>\n",
       "      <td>2</td>\n",
       "      <td>6</td>\n",
       "      <td>13</td>\n",
       "      <td>2</td>\n",
       "      <td>0</td>\n",
       "      <td>Daesh</td>\n",
       "      <td>Marea</td>\n",
       "      <td>PROPN</td>\n",
       "      <td>PROPN</td>\n",
       "      <td>pobj</td>\n",
       "      <td>pobj</td>\n",
       "      <td>2</td>\n",
       "      <td>ORG-LOC</td>\n",
       "    </tr>\n",
       "    <tr>\n",
       "      <th>27</th>\n",
       "      <td>31</td>\n",
       "      <td>inflicting</td>\n",
       "      <td>10</td>\n",
       "      <td>20</td>\n",
       "      <td>25</td>\n",
       "      <td>5</td>\n",
       "      <td>19</td>\n",
       "      <td>5</td>\n",
       "      <td>-10</td>\n",
       "      <td>15</td>\n",
       "      <td>other towns and areas</td>\n",
       "      <td>Syria</td>\n",
       "      <td>ADJ-NOUN-CCONJ-NOUN</td>\n",
       "      <td>PROPN</td>\n",
       "      <td>amod-conj-cc-conj</td>\n",
       "      <td>pobj</td>\n",
       "      <td>6</td>\n",
       "      <td>LOC-LOC</td>\n",
       "    </tr>\n",
       "    <tr>\n",
       "      <th>2</th>\n",
       "      <td>37</td>\n",
       "      <td>met</td>\n",
       "      <td>12</td>\n",
       "      <td>1</td>\n",
       "      <td>1</td>\n",
       "      <td>0</td>\n",
       "      <td>0</td>\n",
       "      <td>35</td>\n",
       "      <td>11</td>\n",
       "      <td>-11</td>\n",
       "      <td>U.S. Army General Joseph Votel</td>\n",
       "      <td>U.S. Air Force civilian employees</td>\n",
       "      <td>PROPN-PROPN-PROPN-PROPN-PROPN</td>\n",
       "      <td>PROPN-PROPN-PROPN-ADJ-NOUN</td>\n",
       "      <td>compound-compound-compound-compound-nsubj</td>\n",
       "      <td>compound-compound-nmod-amod-pobj</td>\n",
       "      <td>0</td>\n",
       "      <td>PER-ORG</td>\n",
       "    </tr>\n",
       "    <tr>\n",
       "      <th>0</th>\n",
       "      <td>24</td>\n",
       "      <td>shown</td>\n",
       "      <td>7</td>\n",
       "      <td>3</td>\n",
       "      <td>7</td>\n",
       "      <td>4</td>\n",
       "      <td>2</td>\n",
       "      <td>16</td>\n",
       "      <td>4</td>\n",
       "      <td>0</td>\n",
       "      <td>U.S. service members</td>\n",
       "      <td>Syria</td>\n",
       "      <td>PROPN-NOUN-NOUN</td>\n",
       "      <td>PROPN</td>\n",
       "      <td>compound-compound-pobj</td>\n",
       "      <td>pobj</td>\n",
       "      <td>4</td>\n",
       "      <td>ORG-LOC</td>\n",
       "    </tr>\n",
       "    <tr>\n",
       "      <th>5</th>\n",
       "      <td>40</td>\n",
       "      <td>advising</td>\n",
       "      <td>6</td>\n",
       "      <td>4</td>\n",
       "      <td>10</td>\n",
       "      <td>6</td>\n",
       "      <td>3</td>\n",
       "      <td>29</td>\n",
       "      <td>2</td>\n",
       "      <td>4</td>\n",
       "      <td>U.S. forces</td>\n",
       "      <td>Syrian Democratic Forces</td>\n",
       "      <td>PROPN-NOUN</td>\n",
       "      <td>PROPN-PROPN-PROPN</td>\n",
       "      <td>compound-nsubj</td>\n",
       "      <td>amod-compound-dobj</td>\n",
       "      <td>5</td>\n",
       "      <td>ORG-ORG</td>\n",
       "    </tr>\n",
       "    <tr>\n",
       "      <th>23</th>\n",
       "      <td>45</td>\n",
       "      <td>said</td>\n",
       "      <td>9</td>\n",
       "      <td>27</td>\n",
       "      <td>42</td>\n",
       "      <td>15</td>\n",
       "      <td>26</td>\n",
       "      <td>2</td>\n",
       "      <td>-18</td>\n",
       "      <td>33</td>\n",
       "      <td>Daesh</td>\n",
       "      <td>Iraq</td>\n",
       "      <td>PROPN</td>\n",
       "      <td>PROPN</td>\n",
       "      <td>dobj</td>\n",
       "      <td>pobj</td>\n",
       "      <td>10</td>\n",
       "      <td>ORG-LOC</td>\n",
       "    </tr>\n",
       "    <tr>\n",
       "      <th>24</th>\n",
       "      <td>45</td>\n",
       "      <td>said</td>\n",
       "      <td>9</td>\n",
       "      <td>27</td>\n",
       "      <td>44</td>\n",
       "      <td>17</td>\n",
       "      <td>26</td>\n",
       "      <td>0</td>\n",
       "      <td>-18</td>\n",
       "      <td>35</td>\n",
       "      <td>Daesh</td>\n",
       "      <td>Syria</td>\n",
       "      <td>PROPN</td>\n",
       "      <td>PROPN</td>\n",
       "      <td>dobj</td>\n",
       "      <td>conj</td>\n",
       "      <td>11</td>\n",
       "      <td>ORG-LOC</td>\n",
       "    </tr>\n",
       "    <tr>\n",
       "      <th>35</th>\n",
       "      <td>49</td>\n",
       "      <td>made</td>\n",
       "      <td>26</td>\n",
       "      <td>5</td>\n",
       "      <td>5</td>\n",
       "      <td>0</td>\n",
       "      <td>4</td>\n",
       "      <td>43</td>\n",
       "      <td>21</td>\n",
       "      <td>-21</td>\n",
       "      <td>the enemy</td>\n",
       "      <td>the SDF</td>\n",
       "      <td>DET-NOUN</td>\n",
       "      <td>DET-PROPN</td>\n",
       "      <td>det-pobj</td>\n",
       "      <td>det-appos</td>\n",
       "      <td>0</td>\n",
       "      <td>ORG-ORG</td>\n",
       "    </tr>\n",
       "    <tr>\n",
       "      <th>43</th>\n",
       "      <td>23</td>\n",
       "      <td>are</td>\n",
       "      <td>6</td>\n",
       "      <td>2</td>\n",
       "      <td>16</td>\n",
       "      <td>14</td>\n",
       "      <td>1</td>\n",
       "      <td>6</td>\n",
       "      <td>4</td>\n",
       "      <td>10</td>\n",
       "      <td>the Turks</td>\n",
       "      <td>our Coalition partners</td>\n",
       "      <td>DET-PROPN</td>\n",
       "      <td>DET-PROPN-NOUN</td>\n",
       "      <td>det-appos</td>\n",
       "      <td>poss-compound-pobj</td>\n",
       "      <td>10</td>\n",
       "      <td>ORG-ORG</td>\n",
       "    </tr>\n",
       "    <tr>\n",
       "      <th>32</th>\n",
       "      <td>33</td>\n",
       "      <td>echo</td>\n",
       "      <td>1</td>\n",
       "      <td>17</td>\n",
       "      <td>19</td>\n",
       "      <td>2</td>\n",
       "      <td>16</td>\n",
       "      <td>13</td>\n",
       "      <td>-16</td>\n",
       "      <td>18</td>\n",
       "      <td>citizens</td>\n",
       "      <td>Tikrit</td>\n",
       "      <td>NOUN</td>\n",
       "      <td>PROPN</td>\n",
       "      <td>pobj</td>\n",
       "      <td>pobj</td>\n",
       "      <td>4</td>\n",
       "      <td>ORG-LOC</td>\n",
       "    </tr>\n",
       "  </tbody>\n",
       "</table>\n",
       "</div>"
      ],
      "text/plain": [
       "    sentence_length   root_word  root_index  entity_1_index  entity_2_index  \\\n",
       "21  23               shows       9           7               9                \n",
       "27  31               inflicting  10          20              25               \n",
       "2   37               met         12          1               1                \n",
       "0   24               shown       7           3               7                \n",
       "5   40               advising    6           4               10               \n",
       "23  45               said        9           27              42               \n",
       "24  45               said        9           27              44               \n",
       "35  49               made        26          5               5                \n",
       "43  23               are         6           2               16               \n",
       "32  33               echo        1           17              19               \n",
       "\n",
       "    entity_distance  no_words_before_entity_1  no_words_after_entity_2  \\\n",
       "21  2                6                         13                        \n",
       "27  5                19                        5                         \n",
       "2   0                0                         35                        \n",
       "0   4                2                         16                        \n",
       "5   6                3                         29                        \n",
       "23  15               26                        2                         \n",
       "24  17               26                        0                         \n",
       "35  0                4                         43                        \n",
       "43  14               1                         6                         \n",
       "32  2                16                        13                        \n",
       "\n",
       "    entity_1_root_distance  entity_2_root_distance  \\\n",
       "21  2                       0                        \n",
       "27 -10                      15                       \n",
       "2   11                     -11                       \n",
       "0   4                       0                        \n",
       "5   2                       4                        \n",
       "23 -18                      33                       \n",
       "24 -18                      35                       \n",
       "35  21                     -21                       \n",
       "43  4                       10                       \n",
       "32 -16                      18                       \n",
       "\n",
       "                     entity 1 name                      entity 2 name  \\\n",
       "21  Daesh                           Marea                               \n",
       "27  other towns and areas           Syria                               \n",
       "2   U.S. Army General Joseph Votel  U.S. Air Force civilian employees   \n",
       "0   U.S. service members            Syria                               \n",
       "5   U.S. forces                     Syrian Democratic Forces            \n",
       "23  Daesh                           Iraq                                \n",
       "24  Daesh                           Syria                               \n",
       "35  the enemy                       the SDF                             \n",
       "43  the Turks                       our Coalition partners              \n",
       "32  citizens                        Tikrit                              \n",
       "\n",
       "                     entity_pos_1                entity_pos_2  \\\n",
       "21  PROPN                          PROPN                        \n",
       "27  ADJ-NOUN-CCONJ-NOUN            PROPN                        \n",
       "2   PROPN-PROPN-PROPN-PROPN-PROPN  PROPN-PROPN-PROPN-ADJ-NOUN   \n",
       "0   PROPN-NOUN-NOUN                PROPN                        \n",
       "5   PROPN-NOUN                     PROPN-PROPN-PROPN            \n",
       "23  PROPN                          PROPN                        \n",
       "24  PROPN                          PROPN                        \n",
       "35  DET-NOUN                       DET-PROPN                    \n",
       "43  DET-PROPN                      DET-PROPN-NOUN               \n",
       "32  NOUN                           PROPN                        \n",
       "\n",
       "                                 entity_dep_1  \\\n",
       "21  pobj                                        \n",
       "27  amod-conj-cc-conj                           \n",
       "2   compound-compound-compound-compound-nsubj   \n",
       "0   compound-compound-pobj                      \n",
       "5   compound-nsubj                              \n",
       "23  dobj                                        \n",
       "24  dobj                                        \n",
       "35  det-pobj                                    \n",
       "43  det-appos                                   \n",
       "32  pobj                                        \n",
       "\n",
       "                        entity_dep_2  shortest_distance    label  \n",
       "21  pobj                              2                  ORG-LOC  \n",
       "27  pobj                              6                  LOC-LOC  \n",
       "2   compound-compound-nmod-amod-pobj  0                  PER-ORG  \n",
       "0   pobj                              4                  ORG-LOC  \n",
       "5   amod-compound-dobj                5                  ORG-ORG  \n",
       "23  pobj                              10                 ORG-LOC  \n",
       "24  conj                              11                 ORG-LOC  \n",
       "35  det-appos                         0                  ORG-ORG  \n",
       "43  poss-compound-pobj                10                 ORG-ORG  \n",
       "32  pobj                              4                  ORG-LOC  "
      ]
     },
     "execution_count": 85,
     "metadata": {},
     "output_type": "execute_result"
    }
   ],
   "source": [
    "dataset = \"re3d\"\n",
    "columns = ['sentence_length', 'root_word', 'root_index',\n",
    "       'entity_1_index', 'entity_2_index', 'entity_distance',\n",
    "       'no_words_before_entity_1', 'no_words_after_entity_2',\n",
    "       'entity_1_root_distance', 'entity_2_root_distance', 'entity 1 name',\n",
    "       'entity 2 name', 'entity_pos_1',\n",
    "       'entity_pos_2', 'entity_dep_1', 'entity_dep_2', 'shortest_distance', 'et-label']\n",
    "\n",
    "features = pd.read_csv(\"/Users/anishajauhari/Desktop/Sem 4/Independent Study /ResponsibleRelationExtraction/Features/Latest/features_\"+dataset+\".csv\", index_col=0)\n",
    "features = features[columns]\n",
    "features = features.rename(columns = {\"et-label\": \"label\"})\n",
    "features.head(10)\n",
    "# features['entity_type_1'] = features['entity 1 type'].fillna(\"OTHER\")\n",
    "# features['entity_type_2'] = features['entity 2 type'].fillna(\"OTHER\")\n",
    "# features = features.drop([\"entity 1 type\", \"entity 2 type\"], axis=1)"
   ]
  },
  {
   "cell_type": "markdown",
   "id": "f63d4c54",
   "metadata": {
    "jp-MarkdownHeadingCollapsed": true,
    "tags": []
   },
   "source": [
    "## Feature Encoding"
   ]
  },
  {
   "cell_type": "code",
   "execution_count": 22,
   "id": "eace507f",
   "metadata": {},
   "outputs": [],
   "source": [
    "## For Entity Type Labels\n",
    "ENT_TYPES = [\"PER\", \"GPE\", \"LOC\", \"ORG\"]\n",
    "def recode_entity_types(value):\n",
    "    if value.lower() in [\"person\", \"per\"]:\n",
    "        return \"PER\"\n",
    "    elif value.lower() in [\"organisation\", \"org\"]:\n",
    "        return \"ORG\"\n",
    "    elif value.lower() in [\"gpe\"]:\n",
    "        return \"GPE\"\n",
    "    elif value.lower() in [\"location\", \"loc\"]:\n",
    "        return \"LOC\"\n",
    "    else:\n",
    "        return \"OTHER\""
   ]
  },
  {
   "cell_type": "code",
   "execution_count": 4,
   "id": "7ea96cb0",
   "metadata": {},
   "outputs": [
    {
     "ename": "KeyError",
     "evalue": "'entity_type_1'",
     "output_type": "error",
     "traceback": [
      "\u001b[0;31m---------------------------------------------------------------------------\u001b[0m",
      "\u001b[0;31mKeyError\u001b[0m                                  Traceback (most recent call last)",
      "\u001b[0;32m/usr/local/anaconda3/lib/python3.7/site-packages/pandas/core/indexes/base.py\u001b[0m in \u001b[0;36mget_loc\u001b[0;34m(self, key, method, tolerance)\u001b[0m\n\u001b[1;32m   3360\u001b[0m             \u001b[0;32mtry\u001b[0m\u001b[0;34m:\u001b[0m\u001b[0;34m\u001b[0m\u001b[0;34m\u001b[0m\u001b[0m\n\u001b[0;32m-> 3361\u001b[0;31m                 \u001b[0;32mreturn\u001b[0m \u001b[0mself\u001b[0m\u001b[0;34m.\u001b[0m\u001b[0m_engine\u001b[0m\u001b[0;34m.\u001b[0m\u001b[0mget_loc\u001b[0m\u001b[0;34m(\u001b[0m\u001b[0mcasted_key\u001b[0m\u001b[0;34m)\u001b[0m\u001b[0;34m\u001b[0m\u001b[0;34m\u001b[0m\u001b[0m\n\u001b[0m\u001b[1;32m   3362\u001b[0m             \u001b[0;32mexcept\u001b[0m \u001b[0mKeyError\u001b[0m \u001b[0;32mas\u001b[0m \u001b[0merr\u001b[0m\u001b[0;34m:\u001b[0m\u001b[0;34m\u001b[0m\u001b[0;34m\u001b[0m\u001b[0m\n",
      "\u001b[0;32m/usr/local/anaconda3/lib/python3.7/site-packages/pandas/_libs/index.pyx\u001b[0m in \u001b[0;36mpandas._libs.index.IndexEngine.get_loc\u001b[0;34m()\u001b[0m\n",
      "\u001b[0;32m/usr/local/anaconda3/lib/python3.7/site-packages/pandas/_libs/index.pyx\u001b[0m in \u001b[0;36mpandas._libs.index.IndexEngine.get_loc\u001b[0;34m()\u001b[0m\n",
      "\u001b[0;32mpandas/_libs/hashtable_class_helper.pxi\u001b[0m in \u001b[0;36mpandas._libs.hashtable.PyObjectHashTable.get_item\u001b[0;34m()\u001b[0m\n",
      "\u001b[0;32mpandas/_libs/hashtable_class_helper.pxi\u001b[0m in \u001b[0;36mpandas._libs.hashtable.PyObjectHashTable.get_item\u001b[0;34m()\u001b[0m\n",
      "\u001b[0;31mKeyError\u001b[0m: 'entity_type_1'",
      "\nThe above exception was the direct cause of the following exception:\n",
      "\u001b[0;31mKeyError\u001b[0m                                  Traceback (most recent call last)",
      "\u001b[0;32m/var/folders/31/6ggvb33125xfgc3tmb1sf0l40000gn/T/ipykernel_64159/1928616099.py\u001b[0m in \u001b[0;36m<module>\u001b[0;34m\u001b[0m\n\u001b[0;32m----> 1\u001b[0;31m \u001b[0mfeatures\u001b[0m\u001b[0;34m[\u001b[0m\u001b[0;34m\"entity_type_1\"\u001b[0m\u001b[0;34m]\u001b[0m \u001b[0;34m=\u001b[0m \u001b[0mfeatures\u001b[0m\u001b[0;34m[\u001b[0m\u001b[0;34m\"entity_type_1\"\u001b[0m\u001b[0;34m]\u001b[0m\u001b[0;34m.\u001b[0m\u001b[0mapply\u001b[0m\u001b[0;34m(\u001b[0m\u001b[0;32mlambda\u001b[0m \u001b[0mx\u001b[0m \u001b[0;34m:\u001b[0m \u001b[0mrecode_entity_types\u001b[0m\u001b[0;34m(\u001b[0m\u001b[0mx\u001b[0m\u001b[0;34m.\u001b[0m\u001b[0msplit\u001b[0m\u001b[0;34m(\u001b[0m\u001b[0;34m\"-\"\u001b[0m\u001b[0;34m)\u001b[0m\u001b[0;34m[\u001b[0m\u001b[0;36m0\u001b[0m\u001b[0;34m]\u001b[0m\u001b[0;34m)\u001b[0m\u001b[0;34m)\u001b[0m\u001b[0;34m\u001b[0m\u001b[0;34m\u001b[0m\u001b[0m\n\u001b[0m\u001b[1;32m      2\u001b[0m \u001b[0mfeatures\u001b[0m\u001b[0;34m[\u001b[0m\u001b[0;34m\"entity_type_2\"\u001b[0m\u001b[0;34m]\u001b[0m \u001b[0;34m=\u001b[0m \u001b[0mfeatures\u001b[0m\u001b[0;34m[\u001b[0m\u001b[0;34m\"entity_type_2\"\u001b[0m\u001b[0;34m]\u001b[0m\u001b[0;34m.\u001b[0m\u001b[0mapply\u001b[0m\u001b[0;34m(\u001b[0m\u001b[0;32mlambda\u001b[0m \u001b[0mx\u001b[0m \u001b[0;34m:\u001b[0m \u001b[0mrecode_entity_types\u001b[0m\u001b[0;34m(\u001b[0m\u001b[0mx\u001b[0m\u001b[0;34m.\u001b[0m\u001b[0msplit\u001b[0m\u001b[0;34m(\u001b[0m\u001b[0;34m\"-\"\u001b[0m\u001b[0;34m)\u001b[0m\u001b[0;34m[\u001b[0m\u001b[0;36m0\u001b[0m\u001b[0;34m]\u001b[0m\u001b[0;34m)\u001b[0m\u001b[0;34m)\u001b[0m\u001b[0;34m\u001b[0m\u001b[0;34m\u001b[0m\u001b[0m\n\u001b[1;32m      3\u001b[0m \u001b[0;31m## Filter rows with OTHER entity type\u001b[0m\u001b[0;34m\u001b[0m\u001b[0;34m\u001b[0m\u001b[0;34m\u001b[0m\u001b[0m\n",
      "\u001b[0;32m/usr/local/anaconda3/lib/python3.7/site-packages/pandas/core/frame.py\u001b[0m in \u001b[0;36m__getitem__\u001b[0;34m(self, key)\u001b[0m\n\u001b[1;32m   3456\u001b[0m             \u001b[0;32mif\u001b[0m \u001b[0mself\u001b[0m\u001b[0;34m.\u001b[0m\u001b[0mcolumns\u001b[0m\u001b[0;34m.\u001b[0m\u001b[0mnlevels\u001b[0m \u001b[0;34m>\u001b[0m \u001b[0;36m1\u001b[0m\u001b[0;34m:\u001b[0m\u001b[0;34m\u001b[0m\u001b[0;34m\u001b[0m\u001b[0m\n\u001b[1;32m   3457\u001b[0m                 \u001b[0;32mreturn\u001b[0m \u001b[0mself\u001b[0m\u001b[0;34m.\u001b[0m\u001b[0m_getitem_multilevel\u001b[0m\u001b[0;34m(\u001b[0m\u001b[0mkey\u001b[0m\u001b[0;34m)\u001b[0m\u001b[0;34m\u001b[0m\u001b[0;34m\u001b[0m\u001b[0m\n\u001b[0;32m-> 3458\u001b[0;31m             \u001b[0mindexer\u001b[0m \u001b[0;34m=\u001b[0m \u001b[0mself\u001b[0m\u001b[0;34m.\u001b[0m\u001b[0mcolumns\u001b[0m\u001b[0;34m.\u001b[0m\u001b[0mget_loc\u001b[0m\u001b[0;34m(\u001b[0m\u001b[0mkey\u001b[0m\u001b[0;34m)\u001b[0m\u001b[0;34m\u001b[0m\u001b[0;34m\u001b[0m\u001b[0m\n\u001b[0m\u001b[1;32m   3459\u001b[0m             \u001b[0;32mif\u001b[0m \u001b[0mis_integer\u001b[0m\u001b[0;34m(\u001b[0m\u001b[0mindexer\u001b[0m\u001b[0;34m)\u001b[0m\u001b[0;34m:\u001b[0m\u001b[0;34m\u001b[0m\u001b[0;34m\u001b[0m\u001b[0m\n\u001b[1;32m   3460\u001b[0m                 \u001b[0mindexer\u001b[0m \u001b[0;34m=\u001b[0m \u001b[0;34m[\u001b[0m\u001b[0mindexer\u001b[0m\u001b[0;34m]\u001b[0m\u001b[0;34m\u001b[0m\u001b[0;34m\u001b[0m\u001b[0m\n",
      "\u001b[0;32m/usr/local/anaconda3/lib/python3.7/site-packages/pandas/core/indexes/base.py\u001b[0m in \u001b[0;36mget_loc\u001b[0;34m(self, key, method, tolerance)\u001b[0m\n\u001b[1;32m   3361\u001b[0m                 \u001b[0;32mreturn\u001b[0m \u001b[0mself\u001b[0m\u001b[0;34m.\u001b[0m\u001b[0m_engine\u001b[0m\u001b[0;34m.\u001b[0m\u001b[0mget_loc\u001b[0m\u001b[0;34m(\u001b[0m\u001b[0mcasted_key\u001b[0m\u001b[0;34m)\u001b[0m\u001b[0;34m\u001b[0m\u001b[0;34m\u001b[0m\u001b[0m\n\u001b[1;32m   3362\u001b[0m             \u001b[0;32mexcept\u001b[0m \u001b[0mKeyError\u001b[0m \u001b[0;32mas\u001b[0m \u001b[0merr\u001b[0m\u001b[0;34m:\u001b[0m\u001b[0;34m\u001b[0m\u001b[0;34m\u001b[0m\u001b[0m\n\u001b[0;32m-> 3363\u001b[0;31m                 \u001b[0;32mraise\u001b[0m \u001b[0mKeyError\u001b[0m\u001b[0;34m(\u001b[0m\u001b[0mkey\u001b[0m\u001b[0;34m)\u001b[0m \u001b[0;32mfrom\u001b[0m \u001b[0merr\u001b[0m\u001b[0;34m\u001b[0m\u001b[0;34m\u001b[0m\u001b[0m\n\u001b[0m\u001b[1;32m   3364\u001b[0m \u001b[0;34m\u001b[0m\u001b[0m\n\u001b[1;32m   3365\u001b[0m         \u001b[0;32mif\u001b[0m \u001b[0mis_scalar\u001b[0m\u001b[0;34m(\u001b[0m\u001b[0mkey\u001b[0m\u001b[0;34m)\u001b[0m \u001b[0;32mand\u001b[0m \u001b[0misna\u001b[0m\u001b[0;34m(\u001b[0m\u001b[0mkey\u001b[0m\u001b[0;34m)\u001b[0m \u001b[0;32mand\u001b[0m \u001b[0;32mnot\u001b[0m \u001b[0mself\u001b[0m\u001b[0;34m.\u001b[0m\u001b[0mhasnans\u001b[0m\u001b[0;34m:\u001b[0m\u001b[0;34m\u001b[0m\u001b[0;34m\u001b[0m\u001b[0m\n",
      "\u001b[0;31mKeyError\u001b[0m: 'entity_type_1'"
     ]
    }
   ],
   "source": [
    "features[\"entity_type_1\"] = features[\"entity_type_1\"].apply(lambda x : recode_entity_types(x.split(\"-\")[0]))\n",
    "features[\"entity_type_2\"] = features[\"entity_type_2\"].apply(lambda x : recode_entity_types(x.split(\"-\")[0]))\n",
    "## Filter rows with OTHER entity type"
   ]
  },
  {
   "cell_type": "code",
   "execution_count": null,
   "id": "facfd4e8",
   "metadata": {},
   "outputs": [],
   "source": [
    "features[\"label\"] = features.apply(lambda x : f\"{x['entity_type_1']}-{x['entity_type_2']}\", axis=1)"
   ]
  },
  {
   "cell_type": "code",
   "execution_count": null,
   "id": "db85e908",
   "metadata": {},
   "outputs": [],
   "source": [
    "print(f\"Number of unique entity-type-paris : {len(features['label'].unique())}\")\n",
    "print(f\"Number of unique entity-type-paris : {features['label'].unique()}\")"
   ]
  },
  {
   "cell_type": "code",
   "execution_count": null,
   "id": "3bf970e1",
   "metadata": {},
   "outputs": [],
   "source": [
    "features.drop([\"entity_type_1\",\"entity_type_2\"], axis=1, inplace=True)"
   ]
  },
  {
   "cell_type": "code",
   "execution_count": null,
   "id": "342881f5",
   "metadata": {},
   "outputs": [],
   "source": [
    "features"
   ]
  },
  {
   "cell_type": "markdown",
   "id": "30478841",
   "metadata": {},
   "source": [
    "## Multiclass Classification"
   ]
  },
  {
   "cell_type": "code",
   "execution_count": 86,
   "id": "2fd25aaf-6d38-4d10-90fa-68a446c68a60",
   "metadata": {},
   "outputs": [],
   "source": [
    "features = features.groupby('label').filter(lambda x : len(x)>2)"
   ]
  },
  {
   "cell_type": "code",
   "execution_count": 87,
   "id": "d7e8e550-c929-4d27-b488-1565fb36ed02",
   "metadata": {},
   "outputs": [
    {
     "data": {
      "text/plain": [
       "array(['ORG-LOC', 'LOC-LOC', 'PER-ORG', 'ORG-ORG', 'PER-LOC', 'PER-PER'],\n",
       "      dtype=object)"
      ]
     },
     "execution_count": 87,
     "metadata": {},
     "output_type": "execute_result"
    }
   ],
   "source": [
    "features[\"label\"].unique()"
   ]
  },
  {
   "cell_type": "code",
   "execution_count": 88,
   "id": "e54c1d66",
   "metadata": {},
   "outputs": [
    {
     "data": {
      "text/plain": [
       "{'LOC-LOC': 0,\n",
       " 'ORG-LOC': 1,\n",
       " 'ORG-ORG': 2,\n",
       " 'PER-LOC': 3,\n",
       " 'PER-ORG': 4,\n",
       " 'PER-PER': 5}"
      ]
     },
     "execution_count": 88,
     "metadata": {},
     "output_type": "execute_result"
    }
   ],
   "source": [
    "# features_with_labels = pd.read_csv(\"features_\"+dataset+\".csv\")\n",
    "# features = features.groupby('label').apply(lambda x: x.sample(frac=0.2))\n",
    "\n",
    "X = features.iloc[:,:-1]\n",
    "X = X.fillna(\"\")\n",
    "y_original =  features.iloc[:,-1]\n",
    "\n",
    "x_train_original, x_test_original, y_train_original, y_test_original = train_test_split(X, y_original, test_size=0.2, stratify=y_original)\n",
    "onehot_encoder = OneHotEncoder(sparse=False, handle_unknown=\"ignore\")\n",
    "x_train = onehot_encoder.fit_transform(x_train_original)\n",
    "x_test = onehot_encoder.transform(x_test_original)\n",
    "\n",
    "le = LabelEncoder()\n",
    "y_train = le.fit_transform(y_train_original)\n",
    "y_test = le.transform(y_test_original)\n",
    "le_name_mapping = dict(zip(le.classes_, le.transform(le.classes_)))\n",
    "le_name_mapping"
   ]
  },
  {
   "cell_type": "code",
   "execution_count": 89,
   "id": "1226a968",
   "metadata": {},
   "outputs": [
    {
     "data": {
      "text/plain": [
       "{'LOC-LOC': 51,\n",
       " 'ORG-LOC': 135,\n",
       " 'ORG-ORG': 92,\n",
       " 'PER-LOC': 29,\n",
       " 'PER-ORG': 30,\n",
       " 'PER-PER': 30}"
      ]
     },
     "execution_count": 89,
     "metadata": {},
     "output_type": "execute_result"
    }
   ],
   "source": [
    "unique, count = np.unique(y_original, return_counts = True)\n",
    "dict(zip(unique, count))"
   ]
  },
  {
   "cell_type": "code",
   "execution_count": 90,
   "id": "d718c0b9",
   "metadata": {},
   "outputs": [
    {
     "name": "stdout",
     "output_type": "stream",
     "text": [
      "--------Logistic Regression-----------\n"
     ]
    }
   ],
   "source": [
    "pred = logistic_regression_multiple_classes(x_train, x_test, y_train, y_test, \"et\")\n",
    "x_test_log_pred = x_test_original\n",
    "x_test_log_pred[\"label\"] = y_test\n",
    "x_test_log_pred[\"prediction\"] = pred\n",
    "x_test_log_pred.to_csv(\"/Users/anishajauhari/Desktop/Sem 4/Independent Study /ResponsibleRelationExtraction/Predictions/binary_logisitic_regression_prediction.csv\")"
   ]
  },
  {
   "cell_type": "code",
   "execution_count": 91,
   "id": "077384d6-cb15-4f6d-b1b6-a0f4ebeb2b1f",
   "metadata": {},
   "outputs": [
    {
     "name": "stdout",
     "output_type": "stream",
     "text": [
      "--------Random Forest-----------\n"
     ]
    }
   ],
   "source": [
    "pred = random_forest_multiple(x_train, x_test, y_train, y_test,\"et\")\n",
    "x_test_rf_pred = x_test_original\n",
    "x_test_rf_pred[\"label\"] = y_test\n",
    "x_test_rf_pred[\"prediction\"] = pred\n",
    "x_test_rf_pred.to_csv(\"/Users/anishajauhari/Desktop/Sem 4/Independent Study /ResponsibleRelationExtraction/Predictions/binary_random_forest_prediction.csv\")\n"
   ]
  },
  {
   "cell_type": "code",
   "execution_count": 92,
   "id": "3702f100-fe83-4a0a-8fc0-ff14bfdf7991",
   "metadata": {},
   "outputs": [
    {
     "name": "stdout",
     "output_type": "stream",
     "text": [
      "--------Support Vector Classifier linear-----------\n"
     ]
    }
   ],
   "source": [
    "pred = svm_multiple(\"linear\", x_train, x_test, y_train, y_test, \"et\")\n",
    "x_test_svm_pred = x_test_original\n",
    "x_test_svm_pred[\"label\"] = y_test\n",
    "x_test_svm_pred[\"prediction\"] = pred\n",
    "x_test_svm_pred.to_csv(\"/Users/anishajauhari/Desktop/Sem 4/Independent Study /ResponsibleRelationExtraction/Predictions/binary_svm_prediction.csv\")"
   ]
  },
  {
   "cell_type": "code",
   "execution_count": 93,
   "id": "97809aa5-422d-481c-b12b-3ecd8a404359",
   "metadata": {},
   "outputs": [
    {
     "name": "stdout",
     "output_type": "stream",
     "text": [
      "--------Support Vector Classifier rbf-----------\n"
     ]
    }
   ],
   "source": [
    "pred = svm_multiple(\"rbf\", x_train, x_test, y_train, y_test, \"et\")\n",
    "x_test_svmrbf_pred = x_test_original\n",
    "x_test_svmrbf_pred[\"label\"] = y_test\n",
    "x_test_svmrbf_pred[\"prediction\"] = pred\n",
    "x_test_svmrbf_pred.to_csv(\"/Users/anishajauhari/Desktop/Sem 4/Independent Study /ResponsibleRelationExtraction/Predictions/binary_svm_rbf_prediction.csv\")"
   ]
  },
  {
   "cell_type": "code",
   "execution_count": 94,
   "id": "ac7ed588-4b14-4a6a-9634-5da5d763ce63",
   "metadata": {},
   "outputs": [
    {
     "name": "stdout",
     "output_type": "stream",
     "text": [
      "--------Support Vector Classifier poly-----------\n"
     ]
    }
   ],
   "source": [
    "pred = svm_multiple(\"poly\", x_train, x_test, y_train, y_test, \"et\")\n",
    "x_test_svmpoly_pred = x_test_original\n",
    "x_test_svmpoly_pred[\"label\"] = y_test\n",
    "x_test_svmpoly_pred[\"prediction\"] = pred\n",
    "x_test_svmpoly_pred.to_csv(\"/Users/anishajauhari/Desktop/Sem 4/Independent Study /ResponsibleRelationExtraction/Predictions/binary_svm_poly_prediction.csv\")\n"
   ]
  },
  {
   "cell_type": "code",
   "execution_count": 95,
   "id": "0a7d2a29-e471-484c-bb91-6f97ab77b4d9",
   "metadata": {},
   "outputs": [],
   "source": [
    "pred = xgboost_multiple_class(x_train, x_test, y_train, y_test, \"et\")\n",
    "x_test_xg_pred = x_test_original\n",
    "x_test_xg_pred[\"label\"] = y_test\n",
    "x_test_xg_pred[\"prediction\"] = pred\n",
    "x_test_xg_pred.to_csv(\"/Users/anishajauhari/Desktop/Sem 4/Independent Study /ResponsibleRelationExtraction/Predictions/binary_xgboost_prediction.csv\")"
   ]
  },
  {
   "cell_type": "code",
   "execution_count": 96,
   "id": "d1bca593-e72a-40aa-b076-cc572be1c010",
   "metadata": {},
   "outputs": [],
   "source": [
    "pred = adaboost_multiple(x_train, x_test, y_train, y_test, \"et\")\n",
    "x_test_ada_pred = x_test_original\n",
    "x_test_ada_pred[\"label\"] = y_test\n",
    "x_test_ada_pred[\"prediction\"] = pred\n",
    "x_test_ada_pred.to_csv(\"/Users/anishajauhari/Desktop/Sem 4/Independent Study /ResponsibleRelationExtraction/Predictions/binary_adaboost_prediction.csv\")\n"
   ]
  },
  {
   "cell_type": "code",
   "execution_count": null,
   "id": "1e5b319e-c62a-49d2-8cca-1f74d4b31c83",
   "metadata": {},
   "outputs": [],
   "source": []
  },
  {
   "cell_type": "code",
   "execution_count": null,
   "id": "bfa49f52-f030-4425-8313-3361e6e6cd6e",
   "metadata": {},
   "outputs": [],
   "source": []
  }
 ],
 "metadata": {
  "kernelspec": {
   "display_name": "Python 3 (ipykernel)",
   "language": "python",
   "name": "python3"
  },
  "language_info": {
   "codemirror_mode": {
    "name": "ipython",
    "version": 3
   },
   "file_extension": ".py",
   "mimetype": "text/x-python",
   "name": "python",
   "nbconvert_exporter": "python",
   "pygments_lexer": "ipython3",
   "version": "3.7.13"
  }
 },
 "nbformat": 4,
 "nbformat_minor": 5
}
